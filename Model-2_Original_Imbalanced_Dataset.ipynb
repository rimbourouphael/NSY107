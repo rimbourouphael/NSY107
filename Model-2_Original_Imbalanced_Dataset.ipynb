{
  "cells": [
    {
      "cell_type": "markdown",
      "metadata": {
        "id": "view-in-github",
        "colab_type": "text"
      },
      "source": [
        "<a href=\"https://colab.research.google.com/github/rimbourouphael/NSY107/blob/main/Model-2_Original_Imbalanced_Dataset.ipynb\" target=\"_parent\"><img src=\"https://colab.research.google.com/assets/colab-badge.svg\" alt=\"Open In Colab\"/></a>"
      ]
    },
    {
      "cell_type": "markdown",
      "metadata": {
        "id": "kMMJQsDf2LSU"
      },
      "source": [
        "### Deep Graph Convolutional Neural Network (DGCNN)\n",
        "\n",
        "\n",
        "\n",
        "#### Model-2, Original (imbalanced) Dataset"
      ]
    },
    {
      "cell_type": "code",
      "source": [
        "!pip install skorch"
      ],
      "metadata": {
        "id": "vMd0QXYk2alD",
        "outputId": "16732d87-b0ef-4523-ad7c-8a3618461c3c",
        "colab": {
          "base_uri": "https://localhost:8080/"
        }
      },
      "execution_count": null,
      "outputs": [
        {
          "output_type": "stream",
          "name": "stdout",
          "text": [
            "Looking in indexes: https://pypi.org/simple, https://us-python.pkg.dev/colab-wheels/public/simple/\n",
            "Collecting skorch\n",
            "  Downloading skorch-0.11.0-py3-none-any.whl (155 kB)\n",
            "\u001b[K     |████████████████████████████████| 155 kB 26.9 MB/s \n",
            "\u001b[?25hRequirement already satisfied: scikit-learn>=0.19.1 in /usr/local/lib/python3.7/dist-packages (from skorch) (1.0.2)\n",
            "Requirement already satisfied: tabulate>=0.7.7 in /usr/local/lib/python3.7/dist-packages (from skorch) (0.8.9)\n",
            "Requirement already satisfied: numpy>=1.13.3 in /usr/local/lib/python3.7/dist-packages (from skorch) (1.21.6)\n",
            "Requirement already satisfied: tqdm>=4.14.0 in /usr/local/lib/python3.7/dist-packages (from skorch) (4.64.0)\n",
            "Requirement already satisfied: scipy>=1.1.0 in /usr/local/lib/python3.7/dist-packages (from skorch) (1.4.1)\n",
            "Requirement already satisfied: joblib>=0.11 in /usr/local/lib/python3.7/dist-packages (from scikit-learn>=0.19.1->skorch) (1.1.0)\n",
            "Requirement already satisfied: threadpoolctl>=2.0.0 in /usr/local/lib/python3.7/dist-packages (from scikit-learn>=0.19.1->skorch) (3.1.0)\n",
            "Installing collected packages: skorch\n",
            "Successfully installed skorch-0.11.0\n"
          ]
        }
      ]
    },
    {
      "cell_type": "code",
      "execution_count": null,
      "metadata": {
        "id": "VzOumnz02LSZ"
      },
      "outputs": [],
      "source": [
        "import numpy as np\n",
        "SEED = 137\n",
        "np.random.seed(SEED)\n",
        "\n",
        "import time\n",
        "from collections import Counter\n",
        "\n",
        "import pandas as pd\n",
        "\n",
        "from sklearn.model_selection import train_test_split, GridSearchCV, StratifiedKFold\n",
        "from sklearn.metrics import accuracy_score, recall_score, confusion_matrix\n",
        "from sklearn.metrics import precision_score, f1_score, roc_auc_score\n",
        "\n",
        "from imblearn.pipeline import Pipeline\n",
        "\n",
        "import torch\n",
        "torch.manual_seed(SEED)\n",
        "import torch.nn as nn\n",
        "import torch.nn.functional as F\n",
        "\n",
        "from skorch.classifier import NeuralNetBinaryClassifier"
      ]
    },
    {
      "cell_type": "markdown",
      "metadata": {
        "id": "q-9bFGd-2LSa"
      },
      "source": [
        "# Data Preprocessing"
      ]
    },
    {
      "cell_type": "code",
      "execution_count": null,
      "metadata": {
        "id": "ykKRmR8x2LSb",
        "outputId": "e3d41420-a00b-448b-f6cc-35f78d07b63b",
        "colab": {
          "base_uri": "https://localhost:8080/",
          "height": 300
        }
      },
      "outputs": [
        {
          "output_type": "execute_result",
          "data": {
            "text/plain": [
              "                               hash  t_0  t_1  t_2  t_3  t_4  t_5  t_6  t_7  \\\n",
              "0  071e8c3f8922e186e57548cd4c703a5d  112  274  158  215  274  158  215  298   \n",
              "1  33f8e6d08a6aae939f25a8e0d63dd523   82  208  187  208  172  117  172  117   \n",
              "2  b68abd064e975e1c6d5f25e748663076   16  110  240  117  240  117  240  117   \n",
              "3  72049be7bd30ea61297ea624ae198067   82  208  187  208  172  117  172  117   \n",
              "4  c9b3700a77facf29172f32df6bc77f48   82  240  117  240  117  240  117  240   \n",
              "\n",
              "   t_8  ...  t_91  t_92  t_93  t_94  t_95  t_96  t_97  t_98  t_99  malware  \n",
              "0   76  ...    71   297   135   171   215    35   208    56    71        1  \n",
              "1  172  ...    81   240   117    71   297   135   171   215    35        1  \n",
              "2  240  ...    65   112   123    65   112   123    65   113   112        1  \n",
              "3  172  ...   208   302   208   302   187   208   302   228   302        1  \n",
              "4  117  ...   209   260    40   209   260   141   260   141   260        1  \n",
              "\n",
              "[5 rows x 102 columns]"
            ],
            "text/html": [
              "\n",
              "  <div id=\"df-f97983ba-be73-4031-8657-a0db7c6b2e7d\">\n",
              "    <div class=\"colab-df-container\">\n",
              "      <div>\n",
              "<style scoped>\n",
              "    .dataframe tbody tr th:only-of-type {\n",
              "        vertical-align: middle;\n",
              "    }\n",
              "\n",
              "    .dataframe tbody tr th {\n",
              "        vertical-align: top;\n",
              "    }\n",
              "\n",
              "    .dataframe thead th {\n",
              "        text-align: right;\n",
              "    }\n",
              "</style>\n",
              "<table border=\"1\" class=\"dataframe\">\n",
              "  <thead>\n",
              "    <tr style=\"text-align: right;\">\n",
              "      <th></th>\n",
              "      <th>hash</th>\n",
              "      <th>t_0</th>\n",
              "      <th>t_1</th>\n",
              "      <th>t_2</th>\n",
              "      <th>t_3</th>\n",
              "      <th>t_4</th>\n",
              "      <th>t_5</th>\n",
              "      <th>t_6</th>\n",
              "      <th>t_7</th>\n",
              "      <th>t_8</th>\n",
              "      <th>...</th>\n",
              "      <th>t_91</th>\n",
              "      <th>t_92</th>\n",
              "      <th>t_93</th>\n",
              "      <th>t_94</th>\n",
              "      <th>t_95</th>\n",
              "      <th>t_96</th>\n",
              "      <th>t_97</th>\n",
              "      <th>t_98</th>\n",
              "      <th>t_99</th>\n",
              "      <th>malware</th>\n",
              "    </tr>\n",
              "  </thead>\n",
              "  <tbody>\n",
              "    <tr>\n",
              "      <th>0</th>\n",
              "      <td>071e8c3f8922e186e57548cd4c703a5d</td>\n",
              "      <td>112</td>\n",
              "      <td>274</td>\n",
              "      <td>158</td>\n",
              "      <td>215</td>\n",
              "      <td>274</td>\n",
              "      <td>158</td>\n",
              "      <td>215</td>\n",
              "      <td>298</td>\n",
              "      <td>76</td>\n",
              "      <td>...</td>\n",
              "      <td>71</td>\n",
              "      <td>297</td>\n",
              "      <td>135</td>\n",
              "      <td>171</td>\n",
              "      <td>215</td>\n",
              "      <td>35</td>\n",
              "      <td>208</td>\n",
              "      <td>56</td>\n",
              "      <td>71</td>\n",
              "      <td>1</td>\n",
              "    </tr>\n",
              "    <tr>\n",
              "      <th>1</th>\n",
              "      <td>33f8e6d08a6aae939f25a8e0d63dd523</td>\n",
              "      <td>82</td>\n",
              "      <td>208</td>\n",
              "      <td>187</td>\n",
              "      <td>208</td>\n",
              "      <td>172</td>\n",
              "      <td>117</td>\n",
              "      <td>172</td>\n",
              "      <td>117</td>\n",
              "      <td>172</td>\n",
              "      <td>...</td>\n",
              "      <td>81</td>\n",
              "      <td>240</td>\n",
              "      <td>117</td>\n",
              "      <td>71</td>\n",
              "      <td>297</td>\n",
              "      <td>135</td>\n",
              "      <td>171</td>\n",
              "      <td>215</td>\n",
              "      <td>35</td>\n",
              "      <td>1</td>\n",
              "    </tr>\n",
              "    <tr>\n",
              "      <th>2</th>\n",
              "      <td>b68abd064e975e1c6d5f25e748663076</td>\n",
              "      <td>16</td>\n",
              "      <td>110</td>\n",
              "      <td>240</td>\n",
              "      <td>117</td>\n",
              "      <td>240</td>\n",
              "      <td>117</td>\n",
              "      <td>240</td>\n",
              "      <td>117</td>\n",
              "      <td>240</td>\n",
              "      <td>...</td>\n",
              "      <td>65</td>\n",
              "      <td>112</td>\n",
              "      <td>123</td>\n",
              "      <td>65</td>\n",
              "      <td>112</td>\n",
              "      <td>123</td>\n",
              "      <td>65</td>\n",
              "      <td>113</td>\n",
              "      <td>112</td>\n",
              "      <td>1</td>\n",
              "    </tr>\n",
              "    <tr>\n",
              "      <th>3</th>\n",
              "      <td>72049be7bd30ea61297ea624ae198067</td>\n",
              "      <td>82</td>\n",
              "      <td>208</td>\n",
              "      <td>187</td>\n",
              "      <td>208</td>\n",
              "      <td>172</td>\n",
              "      <td>117</td>\n",
              "      <td>172</td>\n",
              "      <td>117</td>\n",
              "      <td>172</td>\n",
              "      <td>...</td>\n",
              "      <td>208</td>\n",
              "      <td>302</td>\n",
              "      <td>208</td>\n",
              "      <td>302</td>\n",
              "      <td>187</td>\n",
              "      <td>208</td>\n",
              "      <td>302</td>\n",
              "      <td>228</td>\n",
              "      <td>302</td>\n",
              "      <td>1</td>\n",
              "    </tr>\n",
              "    <tr>\n",
              "      <th>4</th>\n",
              "      <td>c9b3700a77facf29172f32df6bc77f48</td>\n",
              "      <td>82</td>\n",
              "      <td>240</td>\n",
              "      <td>117</td>\n",
              "      <td>240</td>\n",
              "      <td>117</td>\n",
              "      <td>240</td>\n",
              "      <td>117</td>\n",
              "      <td>240</td>\n",
              "      <td>117</td>\n",
              "      <td>...</td>\n",
              "      <td>209</td>\n",
              "      <td>260</td>\n",
              "      <td>40</td>\n",
              "      <td>209</td>\n",
              "      <td>260</td>\n",
              "      <td>141</td>\n",
              "      <td>260</td>\n",
              "      <td>141</td>\n",
              "      <td>260</td>\n",
              "      <td>1</td>\n",
              "    </tr>\n",
              "  </tbody>\n",
              "</table>\n",
              "<p>5 rows × 102 columns</p>\n",
              "</div>\n",
              "      <button class=\"colab-df-convert\" onclick=\"convertToInteractive('df-f97983ba-be73-4031-8657-a0db7c6b2e7d')\"\n",
              "              title=\"Convert this dataframe to an interactive table.\"\n",
              "              style=\"display:none;\">\n",
              "        \n",
              "  <svg xmlns=\"http://www.w3.org/2000/svg\" height=\"24px\"viewBox=\"0 0 24 24\"\n",
              "       width=\"24px\">\n",
              "    <path d=\"M0 0h24v24H0V0z\" fill=\"none\"/>\n",
              "    <path d=\"M18.56 5.44l.94 2.06.94-2.06 2.06-.94-2.06-.94-.94-2.06-.94 2.06-2.06.94zm-11 1L8.5 8.5l.94-2.06 2.06-.94-2.06-.94L8.5 2.5l-.94 2.06-2.06.94zm10 10l.94 2.06.94-2.06 2.06-.94-2.06-.94-.94-2.06-.94 2.06-2.06.94z\"/><path d=\"M17.41 7.96l-1.37-1.37c-.4-.4-.92-.59-1.43-.59-.52 0-1.04.2-1.43.59L10.3 9.45l-7.72 7.72c-.78.78-.78 2.05 0 2.83L4 21.41c.39.39.9.59 1.41.59.51 0 1.02-.2 1.41-.59l7.78-7.78 2.81-2.81c.8-.78.8-2.07 0-2.86zM5.41 20L4 18.59l7.72-7.72 1.47 1.35L5.41 20z\"/>\n",
              "  </svg>\n",
              "      </button>\n",
              "      \n",
              "  <style>\n",
              "    .colab-df-container {\n",
              "      display:flex;\n",
              "      flex-wrap:wrap;\n",
              "      gap: 12px;\n",
              "    }\n",
              "\n",
              "    .colab-df-convert {\n",
              "      background-color: #E8F0FE;\n",
              "      border: none;\n",
              "      border-radius: 50%;\n",
              "      cursor: pointer;\n",
              "      display: none;\n",
              "      fill: #1967D2;\n",
              "      height: 32px;\n",
              "      padding: 0 0 0 0;\n",
              "      width: 32px;\n",
              "    }\n",
              "\n",
              "    .colab-df-convert:hover {\n",
              "      background-color: #E2EBFA;\n",
              "      box-shadow: 0px 1px 2px rgba(60, 64, 67, 0.3), 0px 1px 3px 1px rgba(60, 64, 67, 0.15);\n",
              "      fill: #174EA6;\n",
              "    }\n",
              "\n",
              "    [theme=dark] .colab-df-convert {\n",
              "      background-color: #3B4455;\n",
              "      fill: #D2E3FC;\n",
              "    }\n",
              "\n",
              "    [theme=dark] .colab-df-convert:hover {\n",
              "      background-color: #434B5C;\n",
              "      box-shadow: 0px 1px 3px 1px rgba(0, 0, 0, 0.15);\n",
              "      filter: drop-shadow(0px 1px 2px rgba(0, 0, 0, 0.3));\n",
              "      fill: #FFFFFF;\n",
              "    }\n",
              "  </style>\n",
              "\n",
              "      <script>\n",
              "        const buttonEl =\n",
              "          document.querySelector('#df-f97983ba-be73-4031-8657-a0db7c6b2e7d button.colab-df-convert');\n",
              "        buttonEl.style.display =\n",
              "          google.colab.kernel.accessAllowed ? 'block' : 'none';\n",
              "\n",
              "        async function convertToInteractive(key) {\n",
              "          const element = document.querySelector('#df-f97983ba-be73-4031-8657-a0db7c6b2e7d');\n",
              "          const dataTable =\n",
              "            await google.colab.kernel.invokeFunction('convertToInteractive',\n",
              "                                                     [key], {});\n",
              "          if (!dataTable) return;\n",
              "\n",
              "          const docLinkHtml = 'Like what you see? Visit the ' +\n",
              "            '<a target=\"_blank\" href=https://colab.research.google.com/notebooks/data_table.ipynb>data table notebook</a>'\n",
              "            + ' to learn more about interactive tables.';\n",
              "          element.innerHTML = '';\n",
              "          dataTable['output_type'] = 'display_data';\n",
              "          await google.colab.output.renderOutput(dataTable, element);\n",
              "          const docLink = document.createElement('div');\n",
              "          docLink.innerHTML = docLinkHtml;\n",
              "          element.appendChild(docLink);\n",
              "        }\n",
              "      </script>\n",
              "    </div>\n",
              "  </div>\n",
              "  "
            ]
          },
          "metadata": {},
          "execution_count": 3
        }
      ],
      "source": [
        "df = pd.read_csv('https://raw.githubusercontent.com/rimbourouphael/NSY107/main/dynamic_api_call_sequence_per_malware_100_0_306.csv')\n",
        "df.head()"
      ]
    },
    {
      "cell_type": "code",
      "execution_count": null,
      "metadata": {
        "id": "-zt8tEN52LSc",
        "outputId": "b171a9af-ec27-46ad-d0f6-c8b720e2b5f6",
        "colab": {
          "base_uri": "https://localhost:8080/"
        }
      },
      "outputs": [
        {
          "output_type": "stream",
          "name": "stdout",
          "text": [
            "<class 'pandas.core.frame.DataFrame'>\n",
            "RangeIndex: 43876 entries, 0 to 43875\n",
            "Columns: 102 entries, hash to malware\n",
            "dtypes: int64(101), object(1)\n",
            "memory usage: 34.1+ MB\n"
          ]
        }
      ],
      "source": [
        "df.info()"
      ]
    },
    {
      "cell_type": "code",
      "execution_count": null,
      "metadata": {
        "id": "GuxiisqO2LSd",
        "outputId": "799d59b5-ae77-4dad-ca94-189a43785f9b",
        "colab": {
          "base_uri": "https://localhost:8080/"
        }
      },
      "outputs": [
        {
          "output_type": "stream",
          "name": "stdout",
          "text": [
            "(43876, 100)\n",
            "(43876,)\n"
          ]
        }
      ],
      "source": [
        "X = df.drop(['hash', 'malware'], axis = 1).values.astype(int)\n",
        "y = df['malware'].values.astype(int)\n",
        "print(X.shape)\n",
        "print(y.shape)"
      ]
    },
    {
      "cell_type": "code",
      "execution_count": null,
      "metadata": {
        "id": "8wL_NbP62LSe",
        "outputId": "a29bfdcd-0e3e-49a3-ba48-0f14c961d563",
        "colab": {
          "base_uri": "https://localhost:8080/"
        }
      },
      "outputs": [
        {
          "output_type": "stream",
          "name": "stdout",
          "text": [
            "0\n",
            "306\n"
          ]
        }
      ],
      "source": [
        "print(X.min())\n",
        "print(X.max())"
      ]
    },
    {
      "cell_type": "code",
      "execution_count": null,
      "metadata": {
        "id": "iepVAfPT2LSf"
      },
      "outputs": [],
      "source": [
        "def check_imbalance(dataset):\n",
        "    count = sorted(Counter(dataset).items())\n",
        "    print(count)\n",
        "    print(count[1][1] / count[0][1])\n",
        "    return"
      ]
    },
    {
      "cell_type": "code",
      "execution_count": null,
      "metadata": {
        "id": "_F7EE4F42LSg",
        "outputId": "fc7603d0-1c66-439b-876d-4a6846754336",
        "colab": {
          "base_uri": "https://localhost:8080/"
        }
      },
      "outputs": [
        {
          "output_type": "stream",
          "name": "stdout",
          "text": [
            "[(0, 1079), (1, 42797)]\n",
            "39.66357738646895\n"
          ]
        }
      ],
      "source": [
        "check_imbalance(y)"
      ]
    },
    {
      "cell_type": "code",
      "execution_count": null,
      "metadata": {
        "id": "O7Vvwa9p2LSi"
      },
      "outputs": [],
      "source": [
        "X_train, X_test, y_train, y_test = train_test_split(X, y, test_size = 0.3, random_state = SEED)"
      ]
    },
    {
      "cell_type": "code",
      "execution_count": null,
      "metadata": {
        "id": "HJiQTt5E2LSi",
        "outputId": "8edb1154-0a65-4ebf-b369-b898df8fbb85",
        "colab": {
          "base_uri": "https://localhost:8080/"
        }
      },
      "outputs": [
        {
          "output_type": "stream",
          "name": "stdout",
          "text": [
            "[(0, 731), (1, 29982)]\n",
            "41.015047879616965\n",
            "[(0, 348), (1, 12815)]\n",
            "36.82471264367816\n"
          ]
        }
      ],
      "source": [
        "check_imbalance(y_train)\n",
        "check_imbalance(y_test)\n",
        "\n",
        "del df, X, y"
      ]
    },
    {
      "cell_type": "markdown",
      "metadata": {
        "id": "b6qUaPCa2LSj"
      },
      "source": [
        "### Architecture"
      ]
    },
    {
      "cell_type": "code",
      "execution_count": null,
      "metadata": {
        "id": "u1xn5bff2LSj",
        "outputId": "9a303d40-cbc9-4395-ce3a-5e6e9ea0fba4",
        "colab": {
          "base_uri": "https://localhost:8080/"
        }
      },
      "outputs": [
        {
          "output_type": "stream",
          "name": "stdout",
          "text": [
            "Model_2_network(\n",
            "  (dgcnn_1): DGCNN_network()\n",
            "  (dropout): Dropout(p=0.4, inplace=False)\n",
            "  (dgcnn_2): DGCNN_network()\n",
            "  (fc): Linear(in_features=43594, out_features=1, bias=True)\n",
            ")\n",
            "\n",
            "Parameters: 55736\n"
          ]
        }
      ],
      "source": [
        "def norn_adj(X, input_dim_1):\n",
        "    \n",
        "    A = torch.zeros((X.size(0), input_dim_1, input_dim_1), dtype = torch.float).cuda()\n",
        "        \n",
        "    A_view = A.view(A.size(0), -1)\n",
        "    x_size = X.size(-1)\n",
        "    indices = X.narrow(-1, 0, x_size - 1) * A.stride(1) * A.stride(2) + X.narrow(-1, 1, x_size - 1) * A.stride(2)\n",
        "    A_view.scatter_(1, indices, 1)\n",
        "        \n",
        "    A_hat = A + torch.eye(input_dim_1, dtype = torch.float).cuda()\n",
        "    D_hat = A_hat.sum(dim = 1).pow(-1.0).diag_embed()\n",
        "    \n",
        "    return A_hat, D_hat\n",
        "\n",
        "def to_one_hot(X, input_dim_1):\n",
        "    \n",
        "    X = F.one_hot(X, num_classes = input_dim_1).float()    \n",
        "    X = X.permute(0, 2, 1)\n",
        "    \n",
        "    return X\n",
        "\n",
        "class DGCNN_network(nn.Module):\n",
        "    \n",
        "    def __init__(self, weight_dim_1, weight_dim_2):\n",
        "\n",
        "        super(DGCNN_network, self).__init__()\n",
        "        self.weight_dim_1 = weight_dim_1\n",
        "        self.weight_dim_2 = weight_dim_2        \n",
        "        self.weights = nn.Parameter(torch.rand((self.weight_dim_1, weight_dim_2), dtype = torch.float, requires_grad = True))\n",
        "        \n",
        "    def forward(self, A_hat, D_hat, X):\n",
        "        return D_hat.matmul(A_hat).matmul(X).matmul(self.weights)\n",
        "\n",
        "class Model_2_network(nn.Module):\n",
        "    \n",
        "    def __init__(self, input_dim_1, input_dim_2, weight_dim_2, weight_dim_4, dropout_rate):\n",
        "    \n",
        "        super(Model_2_network, self).__init__()\n",
        "        \n",
        "        self.input_dim_1 = input_dim_1\n",
        "        self.input_dim_2 = input_dim_2\n",
        "        self.weight_dim_1 = input_dim_2\n",
        "        self.weight_dim_2 = weight_dim_2\n",
        "        self.weight_dim_3 = weight_dim_2\n",
        "        self.weight_dim_4 = weight_dim_4\n",
        "        self.dropout_rate = dropout_rate\n",
        "        \n",
        "        self.dgcnn_1 = DGCNN_network(self.weight_dim_1, self.weight_dim_2)\n",
        "        self.dropout = nn.Dropout(p = self.dropout_rate)\n",
        "        self.dgcnn_2 = DGCNN_network(self.weight_dim_3, self.weight_dim_4)\n",
        "        self.fc = nn.Linear(self.input_dim_1 * (self.weight_dim_2 + self.weight_dim_4), 1)\n",
        "        \n",
        "    def forward(self, X):\n",
        "        \n",
        "        A_hat, D_hat = norn_adj(X, input_dim_1)\n",
        "        X = to_one_hot(X, input_dim_1)        \n",
        "\n",
        "        H_1 = self.dgcnn_1(A_hat, D_hat, X)\n",
        "        H_1 = self.dropout(H_1)\n",
        "        H_1 = torch.relu(H_1)\n",
        "        H_2 = self.dgcnn_2(A_hat, D_hat, H_1)\n",
        "        H_2 = self.dropout(H_2)\n",
        "        H_2 = torch.relu(H_2)\n",
        "        H_2 = torch.cat([H_1, H_2], 2)\n",
        "        H_2 = H_2.view(H_2.size(0), -1)\n",
        "        H_2 = self.fc(H_2)\n",
        "                \n",
        "        return H_2.squeeze()\n",
        "    \n",
        "model = Model_2_network(\n",
        "    input_dim_1 = 307,\n",
        "    input_dim_2 = 100,\n",
        "    weight_dim_2 = 71,    \n",
        "    weight_dim_4 = 71,\n",
        "    dropout_rate = 0.4\n",
        ")\n",
        "\n",
        "print(model)\n",
        "print(f'\\nParameters: {np.sum([param.numel() for param in model.parameters()])}')\n",
        "del model    "
      ]
    },
    {
      "cell_type": "markdown",
      "metadata": {
        "id": "lhR-3GR_2LSk"
      },
      "source": [
        "### Hyperparameter Optimization"
      ]
    },
    {
      "cell_type": "code",
      "execution_count": null,
      "metadata": {
        "scrolled": true,
        "id": "wDH8UQWS2LSk"
      },
      "outputs": [],
      "source": [
        "start_training = time.time()\n",
        "\n",
        "torch.manual_seed(SEED)\n",
        "\n",
        "input_dim_1 = 307\n",
        "input_dim_2 = 100\n",
        "\n",
        "net = NeuralNetBinaryClassifier(\n",
        "    Model_2_network,\n",
        "    module__input_dim_1 = input_dim_1,\n",
        "    module__input_dim_2 = input_dim_2,\n",
        "    module__weight_dim_2 = 17,\n",
        "    module__weight_dim_4 = 17,\n",
        "    module__dropout_rate = 0.4,\n",
        "    batch_size = 32,\n",
        "    max_epochs = 10,\n",
        "    train_split = None,\n",
        "    optimizer = torch.optim.Adam,\n",
        "    iterator_train__shuffle = True,\n",
        "    device = 'cuda'\n",
        ")\n",
        "\n",
        "pipe = Pipeline([\n",
        "    ('net', net)\n",
        "])\n",
        "\n",
        "# LSTM(10) => 12771 => DGCNN(17, 17) => 12428\n",
        "# LSTM(40) => 55881 => DGCNN(71, 71) => 55736\n",
        "# LSTM(70) => 106191 => DGCNN(126, 126) => 105841\n",
        "# LSTM(100) => 163701 => DGCNN(182, 182) => 163073\n",
        "\n",
        "params = {\n",
        "    'net__module__weight_dim_2' : [17, 71, 126, 182],\n",
        "    'net__module__weight_dim_4' : [17, 71, 126, 182],\n",
        "    'net__module__dropout_rate' : [0.4, 0.5, 0.6],\n",
        "    'net__batch_size' : [32, 64, 128],\n",
        "    'net__max_epochs' : [10, 20, 30]\n",
        "}\n",
        "\n",
        "gs = GridSearchCV(\n",
        "    pipe,\n",
        "    params,\n",
        "    refit = False,\n",
        "    cv = StratifiedKFold(n_splits = 5, random_state = SEED, shuffle = True),\n",
        "    scoring = lambda net_gs, X_gs, y_gs : roc_auc_score(y_gs, net_gs.predict_proba(X_gs)),\n",
        "    verbose = 2\n",
        ")\n",
        "\n",
        "gs.fit(X_train, y_train.astype(np.float))\n",
        "\n",
        "print(gs.best_score_, gs.best_params_)\n",
        "\n",
        "end_training = (time.time() - start_training) / 60\n",
        "\n",
        "print(f'\\nDone! Time: {end_training:.2f} min')"
      ]
    },
    {
      "cell_type": "markdown",
      "metadata": {
        "id": "ErG8VueX2LSl"
      },
      "source": [
        "#### Best Configuration:\n",
        "\n",
        "0.9698700222194293 {'net__batch_size': 128, 'net__max_epochs': 10, 'net__module__dropout_rate': 0.6, 'net__module__weight_dim_2': 71, 'net__module__weight_dim_4': 71}"
      ]
    },
    {
      "cell_type": "markdown",
      "metadata": {
        "id": "j7aQYzXt2LSm"
      },
      "source": [
        "### Training"
      ]
    },
    {
      "cell_type": "code",
      "execution_count": null,
      "metadata": {
        "scrolled": true,
        "id": "bvS12vXo2LSm",
        "outputId": "cbcf5ab8-c0af-4e88-c696-69f017189167",
        "colab": {
          "base_uri": "https://localhost:8080/"
        }
      },
      "outputs": [
        {
          "output_type": "stream",
          "name": "stderr",
          "text": [
            "/usr/local/lib/python3.7/dist-packages/ipykernel_launcher.py:36: DeprecationWarning: `np.float` is a deprecated alias for the builtin `float`. To silence this warning, use `float` by itself. Doing this will not modify any behavior and is safe. If you specifically wanted the numpy scalar type, use `np.float64` here.\n",
            "Deprecated in NumPy 1.20; for more details and guidance: https://numpy.org/devdocs/release/1.20.0-notes.html#deprecations\n"
          ]
        },
        {
          "output_type": "stream",
          "name": "stdout",
          "text": [
            "  epoch    train_loss     dur\n",
            "-------  ------------  ------\n",
            "      1        \u001b[36m9.4686\u001b[0m  9.3132\n",
            "      2        \u001b[36m0.0591\u001b[0m  7.1374\n",
            "      3        \u001b[36m0.0426\u001b[0m  6.9540\n",
            "      4        \u001b[36m0.0324\u001b[0m  6.9178\n",
            "      5        \u001b[36m0.0286\u001b[0m  6.8920\n",
            "      6        \u001b[36m0.0253\u001b[0m  7.0043\n",
            "      7        \u001b[36m0.0230\u001b[0m  6.9427\n",
            "      8        \u001b[36m0.0198\u001b[0m  6.9067\n",
            "      9        \u001b[36m0.0188\u001b[0m  7.0335\n",
            "     10        \u001b[36m0.0168\u001b[0m  6.8633\n"
          ]
        },
        {
          "output_type": "execute_result",
          "data": {
            "text/plain": [
              "Pipeline(steps=[('net',\n",
              "                 <class 'skorch.classifier.NeuralNetBinaryClassifier'>[initialized](\n",
              "  module_=Model_2_network(\n",
              "    (dgcnn_1): DGCNN_network()\n",
              "    (dropout): Dropout(p=0.6, inplace=False)\n",
              "    (dgcnn_2): DGCNN_network()\n",
              "    (fc): Linear(in_features=43594, out_features=1, bias=True)\n",
              "  ),\n",
              "))])"
            ]
          },
          "metadata": {},
          "execution_count": 12
        }
      ],
      "source": [
        "torch.manual_seed(SEED)\n",
        "\n",
        "# weight_dim_2 = gs.best_params_['net__module__weight_dim_2']\n",
        "# weight_dim_4 = gs.best_params_['net__module__weight_dim_4']\n",
        "# dropout_rate = gs.best_params_['net__module__dropout_rate']\n",
        "# batch_size = gs.best_params_['net__batch_size']\n",
        "# max_epochs = gs.best_params_['net__max_epochs']\n",
        "\n",
        "input_dim_1 = 307\n",
        "input_dim_2 = 100\n",
        "weight_dim_2 = 71\n",
        "weight_dim_4 = 71\n",
        "dropout_rate = 0.6\n",
        "batch_size = 128\n",
        "max_epochs = 10\n",
        "\n",
        "net = NeuralNetBinaryClassifier(\n",
        "    Model_2_network,\n",
        "    module__input_dim_1 = input_dim_1,\n",
        "    module__input_dim_2 = input_dim_2,\n",
        "    module__weight_dim_2 = weight_dim_2,\n",
        "    module__weight_dim_4 = weight_dim_4,\n",
        "    module__dropout_rate = dropout_rate,\n",
        "    batch_size = batch_size,\n",
        "    max_epochs = max_epochs,\n",
        "    train_split = None,\n",
        "    optimizer = torch.optim.Adam,\n",
        "    iterator_train__shuffle = True,\n",
        "    device = 'cuda'\n",
        ")\n",
        "\n",
        "pipe = Pipeline([\n",
        "    ('net', net)\n",
        "])\n",
        "\n",
        "pipe.fit(X_train, y_train.astype(np.float))"
      ]
    },
    {
      "cell_type": "markdown",
      "metadata": {
        "id": "qne85-b_2LSn"
      },
      "source": [
        "### Evaluation"
      ]
    },
    {
      "cell_type": "code",
      "execution_count": null,
      "metadata": {
        "id": "_guCRWPM2LSn"
      },
      "outputs": [],
      "source": [
        "def model_evaluate(y, pred):\n",
        "    print('Confusion matrix\\n[TN FP]\\n[FN TP]')\n",
        "    print(confusion_matrix(y >= 0.5, pred >= 0.5))\n",
        "    print(f'Accuracy: {accuracy_score(y >= 0.5, pred >= 0.5):.4f}')\n",
        "    print(f'Precision: {precision_score(y >= 0.5, pred >= 0.5):.4f}')\n",
        "    print(f'Recall: {recall_score(y >= 0.5, pred >= 0.5):.4f}')\n",
        "    print(f'F1-Score: {f1_score(y >= 0.5, pred >= 0.5):.4f}')\n",
        "    print(f'ROC AUC: {roc_auc_score(y, pred):.4f}')\n",
        "    return"
      ]
    },
    {
      "cell_type": "code",
      "execution_count": null,
      "metadata": {
        "id": "3uyC3SGa2LSo",
        "outputId": "7fd04791-d9db-4832-9590-3e9954149e77",
        "colab": {
          "base_uri": "https://localhost:8080/"
        }
      },
      "outputs": [
        {
          "output_type": "stream",
          "name": "stdout",
          "text": [
            "Confusion matrix\n",
            "[TN FP]\n",
            "[FN TP]\n",
            "[[    0   348]\n",
            " [    0 12815]]\n",
            "Accuracy: 0.9736\n",
            "Precision: 0.9736\n",
            "Recall: 1.0000\n",
            "F1-Score: 0.9866\n",
            "ROC AUC: 0.5000\n"
          ]
        }
      ],
      "source": [
        "model_evaluate(y_test, np.ones(len(y_test)))"
      ]
    },
    {
      "cell_type": "code",
      "execution_count": null,
      "metadata": {
        "id": "dNB5bpAF2LSo",
        "outputId": "78babd72-1830-47ec-9ecf-06326c35ee61",
        "colab": {
          "base_uri": "https://localhost:8080/"
        }
      },
      "outputs": [
        {
          "output_type": "stream",
          "name": "stdout",
          "text": [
            "Confusion matrix\n",
            "[TN FP]\n",
            "[FN TP]\n",
            "[[  241   107]\n",
            " [   30 12785]]\n",
            "Accuracy: 0.9896\n",
            "Precision: 0.9917\n",
            "Recall: 0.9977\n",
            "F1-Score: 0.9947\n",
            "ROC AUC: 0.9664\n"
          ]
        }
      ],
      "source": [
        "X_test_1 = pipe.predict_proba(X_test)[:, 1]\n",
        "model_evaluate(y_test, X_test_1)"
      ]
    },
    {
      "cell_type": "code",
      "execution_count": null,
      "metadata": {
        "id": "p14ZcnOo2LSo",
        "outputId": "61789f7e-0a7b-49a2-b559-194566e4dcfd"
      },
      "outputs": [
        {
          "data": {
            "application/javascript": [
              "IPython.notebook.save_notebook()\n"
            ],
            "text/plain": [
              "<IPython.core.display.Javascript object>"
            ]
          },
          "metadata": {},
          "output_type": "display_data"
        }
      ],
      "source": [
        "%%javascript\n",
        "IPython.notebook.save_notebook()"
      ]
    }
  ],
  "metadata": {
    "kernelspec": {
      "display_name": "Python 3",
      "language": "python",
      "name": "python3"
    },
    "language_info": {
      "codemirror_mode": {
        "name": "ipython",
        "version": 3
      },
      "file_extension": ".py",
      "mimetype": "text/x-python",
      "name": "python",
      "nbconvert_exporter": "python",
      "pygments_lexer": "ipython3",
      "version": "3.7.4"
    },
    "colab": {
      "name": "Model-2_Original_Imbalanced_Dataset.ipynb",
      "provenance": [],
      "include_colab_link": true
    },
    "accelerator": "GPU"
  },
  "nbformat": 4,
  "nbformat_minor": 0
}