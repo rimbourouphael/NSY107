{
  "cells": [
    {
      "cell_type": "markdown",
      "metadata": {
        "id": "view-in-github",
        "colab_type": "text"
      },
      "source": [
        "<a href=\"https://colab.research.google.com/github/rimbourouphael/NSY107/blob/main/LSTM_Balanced_Dataset.ipynb\" target=\"_parent\"><img src=\"https://colab.research.google.com/assets/colab-badge.svg\" alt=\"Open In Colab\"/></a>"
      ]
    },
    {
      "cell_type": "markdown",
      "metadata": {
        "id": "doxCJDbPyLbp"
      },
      "source": [
        "### Long-Short Term Memory (LSTM) Network\n",
        "\n",
        "This code is part our research on malware detection and classification using Deep Learning and Deep Graph Convolutional Neural Networks.\n",
        "\n",
        "For more information or citation, please refer to our research paper:\n",
        "\n",
        "\"Oliveira, Angelo; Sassi, Renato José (2019): Behavioral Malware Detection Using Deep Graph Convolutional Neural Networks. TechRxiv. Preprint.\" at https://doi.org/10.36227/techrxiv.10043099.v1\n",
        "\n",
        "For the dataset, please refer to our repository:\n",
        "\n",
        "https://ieee-dataport.org/open-access/malware-analysis-datasets-api-call-sequences\n",
        "\n",
        "#### Balanced Dataset"
      ]
    },
    {
      "cell_type": "code",
      "source": [
        "!pip install skorch"
      ],
      "metadata": {
        "id": "gK62krrtygh-",
        "outputId": "c67aa53a-e22f-4306-e8c9-539356a05671",
        "colab": {
          "base_uri": "https://localhost:8080/"
        }
      },
      "execution_count": 1,
      "outputs": [
        {
          "output_type": "stream",
          "name": "stdout",
          "text": [
            "Looking in indexes: https://pypi.org/simple, https://us-python.pkg.dev/colab-wheels/public/simple/\n",
            "Collecting skorch\n",
            "  Downloading skorch-0.11.0-py3-none-any.whl (155 kB)\n",
            "\u001b[K     |████████████████████████████████| 155 kB 5.8 MB/s \n",
            "\u001b[?25hRequirement already satisfied: scipy>=1.1.0 in /usr/local/lib/python3.7/dist-packages (from skorch) (1.4.1)\n",
            "Requirement already satisfied: numpy>=1.13.3 in /usr/local/lib/python3.7/dist-packages (from skorch) (1.21.6)\n",
            "Requirement already satisfied: scikit-learn>=0.19.1 in /usr/local/lib/python3.7/dist-packages (from skorch) (1.0.2)\n",
            "Requirement already satisfied: tabulate>=0.7.7 in /usr/local/lib/python3.7/dist-packages (from skorch) (0.8.9)\n",
            "Requirement already satisfied: tqdm>=4.14.0 in /usr/local/lib/python3.7/dist-packages (from skorch) (4.64.0)\n",
            "Requirement already satisfied: threadpoolctl>=2.0.0 in /usr/local/lib/python3.7/dist-packages (from scikit-learn>=0.19.1->skorch) (3.1.0)\n",
            "Requirement already satisfied: joblib>=0.11 in /usr/local/lib/python3.7/dist-packages (from scikit-learn>=0.19.1->skorch) (1.1.0)\n",
            "Installing collected packages: skorch\n",
            "Successfully installed skorch-0.11.0\n"
          ]
        }
      ]
    },
    {
      "cell_type": "code",
      "execution_count": 2,
      "metadata": {
        "id": "T11rdqrKyLbt"
      },
      "outputs": [],
      "source": [
        "import numpy as np\n",
        "SEED = 137\n",
        "np.random.seed(SEED)\n",
        "\n",
        "import time\n",
        "from collections import Counter\n",
        "\n",
        "import pandas as pd\n",
        "\n",
        "from sklearn.model_selection import train_test_split, GridSearchCV, StratifiedKFold\n",
        "from sklearn.metrics import accuracy_score, recall_score, confusion_matrix\n",
        "from sklearn.metrics import precision_score, f1_score, roc_auc_score\n",
        "\n",
        "from imblearn.under_sampling import RandomUnderSampler\n",
        "from imblearn.pipeline import Pipeline\n",
        "\n",
        "import torch\n",
        "torch.manual_seed(SEED)\n",
        "import torch.nn as nn\n",
        "import torch.nn.functional as F\n",
        "\n",
        "from skorch.classifier import NeuralNetBinaryClassifier"
      ]
    },
    {
      "cell_type": "markdown",
      "metadata": {
        "id": "fd_qEfQRyLbv"
      },
      "source": [
        "### Data Preprocessing"
      ]
    },
    {
      "cell_type": "code",
      "execution_count": 3,
      "metadata": {
        "id": "7P_v9FqwyLbv",
        "outputId": "811b4ea2-c301-438b-8c8e-2ab1006cc8fd",
        "colab": {
          "base_uri": "https://localhost:8080/",
          "height": 236
        }
      },
      "outputs": [
        {
          "output_type": "execute_result",
          "data": {
            "text/plain": [
              "                               hash  t_0  t_1  t_2  t_3  t_4  t_5  t_6  t_7  \\\n",
              "0  071e8c3f8922e186e57548cd4c703a5d  112  274  158  215  274  158  215  298   \n",
              "1  33f8e6d08a6aae939f25a8e0d63dd523   82  208  187  208  172  117  172  117   \n",
              "2  b68abd064e975e1c6d5f25e748663076   16  110  240  117  240  117  240  117   \n",
              "3  72049be7bd30ea61297ea624ae198067   82  208  187  208  172  117  172  117   \n",
              "4  c9b3700a77facf29172f32df6bc77f48   82  240  117  240  117  240  117  240   \n",
              "\n",
              "   t_8  ...  t_91  t_92  t_93  t_94  t_95  t_96  t_97  t_98  t_99  malware  \n",
              "0   76  ...    71   297   135   171   215    35   208    56    71        1  \n",
              "1  172  ...    81   240   117    71   297   135   171   215    35        1  \n",
              "2  240  ...    65   112   123    65   112   123    65   113   112        1  \n",
              "3  172  ...   208   302   208   302   187   208   302   228   302        1  \n",
              "4  117  ...   209   260    40   209   260   141   260   141   260        1  \n",
              "\n",
              "[5 rows x 102 columns]"
            ],
            "text/html": [
              "\n",
              "  <div id=\"df-06e5630c-e1fa-45e5-ae4e-48734a4f68a8\">\n",
              "    <div class=\"colab-df-container\">\n",
              "      <div>\n",
              "<style scoped>\n",
              "    .dataframe tbody tr th:only-of-type {\n",
              "        vertical-align: middle;\n",
              "    }\n",
              "\n",
              "    .dataframe tbody tr th {\n",
              "        vertical-align: top;\n",
              "    }\n",
              "\n",
              "    .dataframe thead th {\n",
              "        text-align: right;\n",
              "    }\n",
              "</style>\n",
              "<table border=\"1\" class=\"dataframe\">\n",
              "  <thead>\n",
              "    <tr style=\"text-align: right;\">\n",
              "      <th></th>\n",
              "      <th>hash</th>\n",
              "      <th>t_0</th>\n",
              "      <th>t_1</th>\n",
              "      <th>t_2</th>\n",
              "      <th>t_3</th>\n",
              "      <th>t_4</th>\n",
              "      <th>t_5</th>\n",
              "      <th>t_6</th>\n",
              "      <th>t_7</th>\n",
              "      <th>t_8</th>\n",
              "      <th>...</th>\n",
              "      <th>t_91</th>\n",
              "      <th>t_92</th>\n",
              "      <th>t_93</th>\n",
              "      <th>t_94</th>\n",
              "      <th>t_95</th>\n",
              "      <th>t_96</th>\n",
              "      <th>t_97</th>\n",
              "      <th>t_98</th>\n",
              "      <th>t_99</th>\n",
              "      <th>malware</th>\n",
              "    </tr>\n",
              "  </thead>\n",
              "  <tbody>\n",
              "    <tr>\n",
              "      <th>0</th>\n",
              "      <td>071e8c3f8922e186e57548cd4c703a5d</td>\n",
              "      <td>112</td>\n",
              "      <td>274</td>\n",
              "      <td>158</td>\n",
              "      <td>215</td>\n",
              "      <td>274</td>\n",
              "      <td>158</td>\n",
              "      <td>215</td>\n",
              "      <td>298</td>\n",
              "      <td>76</td>\n",
              "      <td>...</td>\n",
              "      <td>71</td>\n",
              "      <td>297</td>\n",
              "      <td>135</td>\n",
              "      <td>171</td>\n",
              "      <td>215</td>\n",
              "      <td>35</td>\n",
              "      <td>208</td>\n",
              "      <td>56</td>\n",
              "      <td>71</td>\n",
              "      <td>1</td>\n",
              "    </tr>\n",
              "    <tr>\n",
              "      <th>1</th>\n",
              "      <td>33f8e6d08a6aae939f25a8e0d63dd523</td>\n",
              "      <td>82</td>\n",
              "      <td>208</td>\n",
              "      <td>187</td>\n",
              "      <td>208</td>\n",
              "      <td>172</td>\n",
              "      <td>117</td>\n",
              "      <td>172</td>\n",
              "      <td>117</td>\n",
              "      <td>172</td>\n",
              "      <td>...</td>\n",
              "      <td>81</td>\n",
              "      <td>240</td>\n",
              "      <td>117</td>\n",
              "      <td>71</td>\n",
              "      <td>297</td>\n",
              "      <td>135</td>\n",
              "      <td>171</td>\n",
              "      <td>215</td>\n",
              "      <td>35</td>\n",
              "      <td>1</td>\n",
              "    </tr>\n",
              "    <tr>\n",
              "      <th>2</th>\n",
              "      <td>b68abd064e975e1c6d5f25e748663076</td>\n",
              "      <td>16</td>\n",
              "      <td>110</td>\n",
              "      <td>240</td>\n",
              "      <td>117</td>\n",
              "      <td>240</td>\n",
              "      <td>117</td>\n",
              "      <td>240</td>\n",
              "      <td>117</td>\n",
              "      <td>240</td>\n",
              "      <td>...</td>\n",
              "      <td>65</td>\n",
              "      <td>112</td>\n",
              "      <td>123</td>\n",
              "      <td>65</td>\n",
              "      <td>112</td>\n",
              "      <td>123</td>\n",
              "      <td>65</td>\n",
              "      <td>113</td>\n",
              "      <td>112</td>\n",
              "      <td>1</td>\n",
              "    </tr>\n",
              "    <tr>\n",
              "      <th>3</th>\n",
              "      <td>72049be7bd30ea61297ea624ae198067</td>\n",
              "      <td>82</td>\n",
              "      <td>208</td>\n",
              "      <td>187</td>\n",
              "      <td>208</td>\n",
              "      <td>172</td>\n",
              "      <td>117</td>\n",
              "      <td>172</td>\n",
              "      <td>117</td>\n",
              "      <td>172</td>\n",
              "      <td>...</td>\n",
              "      <td>208</td>\n",
              "      <td>302</td>\n",
              "      <td>208</td>\n",
              "      <td>302</td>\n",
              "      <td>187</td>\n",
              "      <td>208</td>\n",
              "      <td>302</td>\n",
              "      <td>228</td>\n",
              "      <td>302</td>\n",
              "      <td>1</td>\n",
              "    </tr>\n",
              "    <tr>\n",
              "      <th>4</th>\n",
              "      <td>c9b3700a77facf29172f32df6bc77f48</td>\n",
              "      <td>82</td>\n",
              "      <td>240</td>\n",
              "      <td>117</td>\n",
              "      <td>240</td>\n",
              "      <td>117</td>\n",
              "      <td>240</td>\n",
              "      <td>117</td>\n",
              "      <td>240</td>\n",
              "      <td>117</td>\n",
              "      <td>...</td>\n",
              "      <td>209</td>\n",
              "      <td>260</td>\n",
              "      <td>40</td>\n",
              "      <td>209</td>\n",
              "      <td>260</td>\n",
              "      <td>141</td>\n",
              "      <td>260</td>\n",
              "      <td>141</td>\n",
              "      <td>260</td>\n",
              "      <td>1</td>\n",
              "    </tr>\n",
              "  </tbody>\n",
              "</table>\n",
              "<p>5 rows × 102 columns</p>\n",
              "</div>\n",
              "      <button class=\"colab-df-convert\" onclick=\"convertToInteractive('df-06e5630c-e1fa-45e5-ae4e-48734a4f68a8')\"\n",
              "              title=\"Convert this dataframe to an interactive table.\"\n",
              "              style=\"display:none;\">\n",
              "        \n",
              "  <svg xmlns=\"http://www.w3.org/2000/svg\" height=\"24px\"viewBox=\"0 0 24 24\"\n",
              "       width=\"24px\">\n",
              "    <path d=\"M0 0h24v24H0V0z\" fill=\"none\"/>\n",
              "    <path d=\"M18.56 5.44l.94 2.06.94-2.06 2.06-.94-2.06-.94-.94-2.06-.94 2.06-2.06.94zm-11 1L8.5 8.5l.94-2.06 2.06-.94-2.06-.94L8.5 2.5l-.94 2.06-2.06.94zm10 10l.94 2.06.94-2.06 2.06-.94-2.06-.94-.94-2.06-.94 2.06-2.06.94z\"/><path d=\"M17.41 7.96l-1.37-1.37c-.4-.4-.92-.59-1.43-.59-.52 0-1.04.2-1.43.59L10.3 9.45l-7.72 7.72c-.78.78-.78 2.05 0 2.83L4 21.41c.39.39.9.59 1.41.59.51 0 1.02-.2 1.41-.59l7.78-7.78 2.81-2.81c.8-.78.8-2.07 0-2.86zM5.41 20L4 18.59l7.72-7.72 1.47 1.35L5.41 20z\"/>\n",
              "  </svg>\n",
              "      </button>\n",
              "      \n",
              "  <style>\n",
              "    .colab-df-container {\n",
              "      display:flex;\n",
              "      flex-wrap:wrap;\n",
              "      gap: 12px;\n",
              "    }\n",
              "\n",
              "    .colab-df-convert {\n",
              "      background-color: #E8F0FE;\n",
              "      border: none;\n",
              "      border-radius: 50%;\n",
              "      cursor: pointer;\n",
              "      display: none;\n",
              "      fill: #1967D2;\n",
              "      height: 32px;\n",
              "      padding: 0 0 0 0;\n",
              "      width: 32px;\n",
              "    }\n",
              "\n",
              "    .colab-df-convert:hover {\n",
              "      background-color: #E2EBFA;\n",
              "      box-shadow: 0px 1px 2px rgba(60, 64, 67, 0.3), 0px 1px 3px 1px rgba(60, 64, 67, 0.15);\n",
              "      fill: #174EA6;\n",
              "    }\n",
              "\n",
              "    [theme=dark] .colab-df-convert {\n",
              "      background-color: #3B4455;\n",
              "      fill: #D2E3FC;\n",
              "    }\n",
              "\n",
              "    [theme=dark] .colab-df-convert:hover {\n",
              "      background-color: #434B5C;\n",
              "      box-shadow: 0px 1px 3px 1px rgba(0, 0, 0, 0.15);\n",
              "      filter: drop-shadow(0px 1px 2px rgba(0, 0, 0, 0.3));\n",
              "      fill: #FFFFFF;\n",
              "    }\n",
              "  </style>\n",
              "\n",
              "      <script>\n",
              "        const buttonEl =\n",
              "          document.querySelector('#df-06e5630c-e1fa-45e5-ae4e-48734a4f68a8 button.colab-df-convert');\n",
              "        buttonEl.style.display =\n",
              "          google.colab.kernel.accessAllowed ? 'block' : 'none';\n",
              "\n",
              "        async function convertToInteractive(key) {\n",
              "          const element = document.querySelector('#df-06e5630c-e1fa-45e5-ae4e-48734a4f68a8');\n",
              "          const dataTable =\n",
              "            await google.colab.kernel.invokeFunction('convertToInteractive',\n",
              "                                                     [key], {});\n",
              "          if (!dataTable) return;\n",
              "\n",
              "          const docLinkHtml = 'Like what you see? Visit the ' +\n",
              "            '<a target=\"_blank\" href=https://colab.research.google.com/notebooks/data_table.ipynb>data table notebook</a>'\n",
              "            + ' to learn more about interactive tables.';\n",
              "          element.innerHTML = '';\n",
              "          dataTable['output_type'] = 'display_data';\n",
              "          await google.colab.output.renderOutput(dataTable, element);\n",
              "          const docLink = document.createElement('div');\n",
              "          docLink.innerHTML = docLinkHtml;\n",
              "          element.appendChild(docLink);\n",
              "        }\n",
              "      </script>\n",
              "    </div>\n",
              "  </div>\n",
              "  "
            ]
          },
          "metadata": {},
          "execution_count": 3
        }
      ],
      "source": [
        "df = pd.read_csv('https://raw.githubusercontent.com/rimbourouphael/NSY107/main/dynamic_api_call_sequence_per_malware_100_0_306.csv')\n",
        "df.head()"
      ]
    },
    {
      "cell_type": "code",
      "execution_count": 4,
      "metadata": {
        "id": "H3iM9PfbyLbw",
        "outputId": "8deb6fa0-d79f-479d-b3f4-89ea30fb7ca6",
        "colab": {
          "base_uri": "https://localhost:8080/"
        }
      },
      "outputs": [
        {
          "output_type": "stream",
          "name": "stdout",
          "text": [
            "<class 'pandas.core.frame.DataFrame'>\n",
            "RangeIndex: 43876 entries, 0 to 43875\n",
            "Columns: 102 entries, hash to malware\n",
            "dtypes: int64(101), object(1)\n",
            "memory usage: 34.1+ MB\n"
          ]
        }
      ],
      "source": [
        "df.info()"
      ]
    },
    {
      "cell_type": "code",
      "execution_count": 5,
      "metadata": {
        "id": "6xb9fiLEyLbx",
        "outputId": "650d5ac7-707e-417f-804c-7193028d970f",
        "colab": {
          "base_uri": "https://localhost:8080/"
        }
      },
      "outputs": [
        {
          "output_type": "stream",
          "name": "stdout",
          "text": [
            "(43876, 100)\n",
            "(43876,)\n"
          ]
        }
      ],
      "source": [
        "X = df.drop(['hash', 'malware'], axis = 1).values.astype(int)\n",
        "y = df['malware'].values.astype(int)\n",
        "print(X.shape)\n",
        "print(y.shape)"
      ]
    },
    {
      "cell_type": "code",
      "execution_count": 6,
      "metadata": {
        "id": "9dZqPGQGyLbx",
        "outputId": "7c766784-215e-4354-a314-577b98423959",
        "colab": {
          "base_uri": "https://localhost:8080/"
        }
      },
      "outputs": [
        {
          "output_type": "stream",
          "name": "stdout",
          "text": [
            "0\n",
            "306\n"
          ]
        }
      ],
      "source": [
        "print(X.min())\n",
        "print(X.max())"
      ]
    },
    {
      "cell_type": "code",
      "execution_count": 7,
      "metadata": {
        "id": "zOG0iUZbyLby"
      },
      "outputs": [],
      "source": [
        "def check_imbalance(dataset):\n",
        "    count = sorted(Counter(dataset).items())\n",
        "    print(count)\n",
        "    print(count[1][1] / count[0][1])\n",
        "    return"
      ]
    },
    {
      "cell_type": "code",
      "execution_count": 8,
      "metadata": {
        "id": "CdyIZp5tyLb0",
        "outputId": "b5df7154-7bab-4cb9-d18f-a21241139ec2",
        "colab": {
          "base_uri": "https://localhost:8080/"
        }
      },
      "outputs": [
        {
          "output_type": "stream",
          "name": "stdout",
          "text": [
            "[(0, 1079), (1, 1079)]\n",
            "1.0\n"
          ]
        }
      ],
      "source": [
        "random_undersampler = RandomUnderSampler(random_state = SEED)\n",
        "\n",
        "X, y = random_undersampler.fit_resample(X, y)\n",
        "\n",
        "check_imbalance(y)"
      ]
    },
    {
      "cell_type": "code",
      "execution_count": 9,
      "metadata": {
        "id": "DX_F6ftnyLb0",
        "outputId": "2c85616f-e85e-4d12-cee7-1f81da669eb5",
        "colab": {
          "base_uri": "https://localhost:8080/"
        }
      },
      "outputs": [
        {
          "output_type": "stream",
          "name": "stdout",
          "text": [
            "[(0, 1079), (1, 1079)]\n",
            "1.0\n"
          ]
        }
      ],
      "source": [
        "check_imbalance(y)"
      ]
    },
    {
      "cell_type": "code",
      "execution_count": 10,
      "metadata": {
        "id": "RhYizeygyLb1"
      },
      "outputs": [],
      "source": [
        "X_train, X_test, y_train, y_test = train_test_split(X, y, test_size = 0.3, random_state = SEED)"
      ]
    },
    {
      "cell_type": "code",
      "execution_count": 11,
      "metadata": {
        "id": "CECakQWkyLb1",
        "outputId": "a1254cfa-5824-44d6-c503-3b7051f8308b",
        "colab": {
          "base_uri": "https://localhost:8080/"
        }
      },
      "outputs": [
        {
          "output_type": "stream",
          "name": "stdout",
          "text": [
            "[(0, 738), (1, 772)]\n",
            "1.046070460704607\n",
            "[(0, 341), (1, 307)]\n",
            "0.9002932551319648\n"
          ]
        }
      ],
      "source": [
        "check_imbalance(y_train)\n",
        "check_imbalance(y_test)\n",
        "\n",
        "del df, X, y"
      ]
    },
    {
      "cell_type": "markdown",
      "metadata": {
        "id": "9xGQ5oS6yLb2"
      },
      "source": [
        "### Architecture"
      ]
    },
    {
      "cell_type": "code",
      "execution_count": 12,
      "metadata": {
        "id": "r3omV6liyLb4",
        "outputId": "d6e9449b-e65f-4395-e9f9-9cb5fc02d1c6",
        "colab": {
          "base_uri": "https://localhost:8080/"
        }
      },
      "outputs": [
        {
          "output_type": "stream",
          "name": "stdout",
          "text": [
            "LSTM_network(\n",
            "  (lstm): LSTM(307, 10, batch_first=True)\n",
            "  (dropout): Dropout(p=0.4, inplace=False)\n",
            "  (fc): Linear(in_features=10, out_features=1, bias=True)\n",
            ")\n",
            "\n",
            "Parameters: 12771\n"
          ]
        }
      ],
      "source": [
        "class LSTM_network(nn.Module):\n",
        "    \n",
        "    def __init__(self, input_dim, hidden_dim, dropout_rate):\n",
        "        \n",
        "        super(LSTM_network, self).__init__()\n",
        "        \n",
        "        self.input_dim = input_dim\n",
        "        self.hidden_dim = hidden_dim\n",
        "        self.dropout_rate = dropout_rate\n",
        "        \n",
        "        self.lstm = nn.LSTM(self.input_dim, self.hidden_dim, batch_first = True)\n",
        "        self.dropout = nn.Dropout(p = self.dropout_rate)\n",
        "        self.fc = nn.Linear(self.hidden_dim, 1)\n",
        "        \n",
        "    def forward(self, X):\n",
        "        \n",
        "        X = F.one_hot(X, num_classes = self.input_dim).float().cuda()\n",
        "        \n",
        "        # Hidden layer shape: (num_layers, batch_size, hidden_dim)\n",
        "        hidden_0 = (torch.zeros(1, X.size(0), self.hidden_dim).float().cuda(),\n",
        "                    torch.zeros(1, X.size(0), self.hidden_dim).float().cuda())\n",
        "        \n",
        "        # Input/Output shape: (batch_size, seq_len, input_dim)\n",
        "        _, self.hidden = self.lstm(X, hidden_0)\n",
        "                \n",
        "        H = self.hidden[0].squeeze()\n",
        "        H = self.dropout(H)\n",
        "        H = self.fc(H)\n",
        "                \n",
        "        return H.squeeze()\n",
        "\n",
        "model = LSTM_network(\n",
        "    input_dim = 307,\n",
        "    hidden_dim = 10,\n",
        "    dropout_rate = 0.4\n",
        ")\n",
        "\n",
        "print(model)\n",
        "print(f'\\nParameters: {np.sum([param.numel() for param in model.parameters()])}')\n",
        "del model"
      ]
    },
    {
      "cell_type": "markdown",
      "metadata": {
        "id": "74aqScyQyLb6"
      },
      "source": [
        "### Hyperparameter Optimization"
      ]
    },
    {
      "cell_type": "code",
      "execution_count": null,
      "metadata": {
        "scrolled": true,
        "id": "tF9Gj6ZfyLb6"
      },
      "outputs": [],
      "source": [
        "start_training = time.time()\n",
        "\n",
        "torch.manual_seed(SEED)\n",
        "\n",
        "input_dim = 307\n",
        "\n",
        "net = NeuralNetBinaryClassifier(\n",
        "    LSTM_network,\n",
        "    module__input_dim = input_dim,\n",
        "    module__hidden_dim = 10,\n",
        "    module__dropout_rate = 0.4,\n",
        "    batch_size = 32,\n",
        "    max_epochs = 10,\n",
        "    train_split = None,\n",
        "    optimizer = torch.optim.Adam,\n",
        "    iterator_train__shuffle = True,\n",
        "    device = 'cuda'\n",
        ")\n",
        "\n",
        "pipe = Pipeline([\n",
        "    ('net', net)\n",
        "])\n",
        "\n",
        "params = {\n",
        "    'net__module__hidden_dim' : [10, 40, 70, 100],\n",
        "    'net__module__dropout_rate' : [0.4, 0.5, 0.6],\n",
        "    'net__batch_size' : [32, 64, 128],\n",
        "    'net__max_epochs' : [10, 20, 30]\n",
        "}\n",
        "\n",
        "gs = GridSearchCV(\n",
        "    pipe,\n",
        "    params,\n",
        "    refit = False,\n",
        "    cv = StratifiedKFold(n_splits = 5, random_state = SEED, shuffle = True),\n",
        "    scoring = lambda net_gs, X_gs, y_gs : roc_auc_score(y_gs, net_gs.predict_proba(X_gs)),\n",
        "    verbose = 2\n",
        ")\n",
        "\n",
        "gs.fit(X_train, y_train.astype(np.float))\n",
        "\n",
        "print(gs.best_score_, gs.best_params_)\n",
        "\n",
        "end_training = (time.time() - start_training) / 60\n",
        "\n",
        "print(f'\\nDone! Time: {end_training:.2f} min')"
      ]
    },
    {
      "cell_type": "markdown",
      "metadata": {
        "id": "194NBIZXyLb6"
      },
      "source": [
        "#### Best configuration:\n",
        "\n",
        "0.9404987294237913 {'net__batch_size': 32, 'net__max_epochs': 30, 'net__module__dropout_rate': 0.4, 'net__module__hidden_dim': 10}"
      ]
    },
    {
      "cell_type": "markdown",
      "metadata": {
        "id": "gYTfN0RDyLb7"
      },
      "source": [
        "### Training"
      ]
    },
    {
      "cell_type": "code",
      "execution_count": 13,
      "metadata": {
        "id": "xkwKwJd7yLb7",
        "outputId": "b3c080c2-7f3b-4707-ef02-e44f7d2db1e5",
        "colab": {
          "base_uri": "https://localhost:8080/"
        }
      },
      "outputs": [
        {
          "output_type": "stream",
          "name": "stderr",
          "text": [
            "/usr/local/lib/python3.7/dist-packages/ipykernel_launcher.py:31: DeprecationWarning: `np.float` is a deprecated alias for the builtin `float`. To silence this warning, use `float` by itself. Doing this will not modify any behavior and is safe. If you specifically wanted the numpy scalar type, use `np.float64` here.\n",
            "Deprecated in NumPy 1.20; for more details and guidance: https://numpy.org/devdocs/release/1.20.0-notes.html#deprecations\n"
          ]
        },
        {
          "output_type": "stream",
          "name": "stdout",
          "text": [
            "  epoch    train_loss     dur\n",
            "-------  ------------  ------\n",
            "      1        \u001b[36m0.6375\u001b[0m  0.4213\n",
            "      2        \u001b[36m0.4992\u001b[0m  0.2219\n",
            "      3        \u001b[36m0.4429\u001b[0m  0.2156\n",
            "      4        \u001b[36m0.3841\u001b[0m  0.2256\n",
            "      5        \u001b[36m0.3472\u001b[0m  0.2203\n",
            "      6        \u001b[36m0.3430\u001b[0m  0.2141\n",
            "      7        \u001b[36m0.3276\u001b[0m  0.2143\n",
            "      8        \u001b[36m0.2930\u001b[0m  0.2199\n",
            "      9        \u001b[36m0.2713\u001b[0m  0.2174\n",
            "     10        \u001b[36m0.2465\u001b[0m  0.2130\n",
            "     11        0.2506  0.2162\n",
            "     12        \u001b[36m0.2339\u001b[0m  0.2153\n",
            "     13        \u001b[36m0.2135\u001b[0m  0.2190\n",
            "     14        \u001b[36m0.2005\u001b[0m  0.2092\n",
            "     15        0.2538  0.2144\n",
            "     16        0.2314  0.2158\n",
            "     17        \u001b[36m0.1983\u001b[0m  0.2113\n",
            "     18        \u001b[36m0.1773\u001b[0m  0.2158\n",
            "     19        \u001b[36m0.1519\u001b[0m  0.2196\n",
            "     20        \u001b[36m0.1398\u001b[0m  0.2175\n",
            "     21        \u001b[36m0.1226\u001b[0m  0.2127\n",
            "     22        0.1997  0.2199\n",
            "     23        0.2163  0.2163\n",
            "     24        0.1494  0.2160\n",
            "     25        \u001b[36m0.1211\u001b[0m  0.2141\n",
            "     26        \u001b[36m0.1205\u001b[0m  0.2110\n",
            "     27        \u001b[36m0.0936\u001b[0m  0.2157\n",
            "     28        0.1026  0.2098\n",
            "     29        0.1076  0.2109\n",
            "     30        0.1030  0.2149\n"
          ]
        },
        {
          "output_type": "execute_result",
          "data": {
            "text/plain": [
              "Pipeline(steps=[('net',\n",
              "                 <class 'skorch.classifier.NeuralNetBinaryClassifier'>[initialized](\n",
              "  module_=LSTM_network(\n",
              "    (lstm): LSTM(307, 10, batch_first=True)\n",
              "    (dropout): Dropout(p=0.4, inplace=False)\n",
              "    (fc): Linear(in_features=10, out_features=1, bias=True)\n",
              "  ),\n",
              "))])"
            ]
          },
          "metadata": {},
          "execution_count": 13
        }
      ],
      "source": [
        "torch.manual_seed(SEED)\n",
        "\n",
        "# hidden_dim = gs.best_params_['net__module__hidden_dim']\n",
        "# dropout_rate = gs.best_params_['net__module__dropout_rate']\n",
        "# batch_size = gs.best_params_['net__batch_size']\n",
        "# max_epochs = gs.best_params_['net__max_epochs']\n",
        "\n",
        "input_dim = 307\n",
        "hidden_dim = 10\n",
        "dropout_rate = 0.4\n",
        "batch_size = 32\n",
        "max_epochs = 30\n",
        "\n",
        "net = NeuralNetBinaryClassifier(\n",
        "    LSTM_network,\n",
        "    module__input_dim = input_dim,\n",
        "    module__hidden_dim = hidden_dim,\n",
        "    module__dropout_rate = dropout_rate,\n",
        "    batch_size = batch_size,\n",
        "    max_epochs = max_epochs,\n",
        "    train_split = None,\n",
        "    optimizer = torch.optim.Adam,\n",
        "    iterator_train__shuffle = True,\n",
        "    device = 'cuda'\n",
        ")\n",
        "\n",
        "pipe = Pipeline([\n",
        "    ('net', net)\n",
        "])\n",
        "\n",
        "pipe.fit(X_train, y_train.astype(np.float))"
      ]
    },
    {
      "cell_type": "markdown",
      "metadata": {
        "id": "4qzQRHffyLb8"
      },
      "source": [
        "### Evaluation"
      ]
    },
    {
      "cell_type": "code",
      "execution_count": 14,
      "metadata": {
        "id": "l3Szl6p8yLb8"
      },
      "outputs": [],
      "source": [
        "def model_evaluate(y, pred):\n",
        "    print('Confusion matrix\\n[TN FP]\\n[FN TP]')\n",
        "    print(confusion_matrix(y >= 0.5, pred >= 0.5))\n",
        "    print(f'Accuracy: {accuracy_score(y >= 0.5, pred >= 0.5):.4f}')\n",
        "    print(f'Precision: {precision_score(y >= 0.5, pred >= 0.5):.4f}')\n",
        "    print(f'Recall: {recall_score(y >= 0.5, pred >= 0.5):.4f}')\n",
        "    print(f'F1-Score: {f1_score(y >= 0.5, pred >= 0.5):.4f}')\n",
        "    print(f'ROC AUC: {roc_auc_score(y, pred):.4f}')\n",
        "    return"
      ]
    },
    {
      "cell_type": "code",
      "execution_count": 15,
      "metadata": {
        "id": "hMBlJ1GIyLb9",
        "outputId": "e6fde5bd-1e47-45a9-e835-078481753452",
        "colab": {
          "base_uri": "https://localhost:8080/"
        }
      },
      "outputs": [
        {
          "output_type": "stream",
          "name": "stdout",
          "text": [
            "Confusion matrix\n",
            "[TN FP]\n",
            "[FN TP]\n",
            "[[  0 341]\n",
            " [  0 307]]\n",
            "Accuracy: 0.4738\n",
            "Precision: 0.4738\n",
            "Recall: 1.0000\n",
            "F1-Score: 0.6429\n",
            "ROC AUC: 0.5000\n"
          ]
        }
      ],
      "source": [
        "model_evaluate(y_test, np.ones(len(y_test)))"
      ]
    },
    {
      "cell_type": "code",
      "execution_count": 16,
      "metadata": {
        "scrolled": true,
        "id": "dx2D2QTFyLb9",
        "outputId": "cebdbcc1-4e55-4908-d7ac-d723b6326a34",
        "colab": {
          "base_uri": "https://localhost:8080/"
        }
      },
      "outputs": [
        {
          "output_type": "stream",
          "name": "stdout",
          "text": [
            "Confusion matrix\n",
            "[TN FP]\n",
            "[FN TP]\n",
            "[[306  35]\n",
            " [ 44 263]]\n",
            "Accuracy: 0.8781\n",
            "Precision: 0.8826\n",
            "Recall: 0.8567\n",
            "F1-Score: 0.8694\n",
            "ROC AUC: 0.9449\n"
          ]
        }
      ],
      "source": [
        "X_test_1 = pipe.predict_proba(X_test)[:, 1]\n",
        "model_evaluate(y_test, X_test_1)"
      ]
    },
    {
      "cell_type": "code",
      "execution_count": null,
      "metadata": {
        "id": "xHtXMLqNyLb9",
        "outputId": "619b5320-45c8-4938-aafc-d8f43dee6f4b"
      },
      "outputs": [
        {
          "data": {
            "application/javascript": [
              "IPython.notebook.save_notebook()\n"
            ],
            "text/plain": [
              "<IPython.core.display.Javascript object>"
            ]
          },
          "metadata": {},
          "output_type": "display_data"
        }
      ],
      "source": [
        "%%javascript\n",
        "IPython.notebook.save_notebook()"
      ]
    }
  ],
  "metadata": {
    "kernelspec": {
      "display_name": "Python 3",
      "language": "python",
      "name": "python3"
    },
    "language_info": {
      "codemirror_mode": {
        "name": "ipython",
        "version": 3
      },
      "file_extension": ".py",
      "mimetype": "text/x-python",
      "name": "python",
      "nbconvert_exporter": "python",
      "pygments_lexer": "ipython3",
      "version": "3.7.4"
    },
    "colab": {
      "name": "LSTM_Balanced_Dataset.ipynb",
      "provenance": [],
      "include_colab_link": true
    },
    "accelerator": "GPU"
  },
  "nbformat": 4,
  "nbformat_minor": 0
}