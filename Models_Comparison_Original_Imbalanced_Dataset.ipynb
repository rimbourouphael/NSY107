{
  "cells": [
    {
      "cell_type": "markdown",
      "metadata": {
        "id": "view-in-github",
        "colab_type": "text"
      },
      "source": [
        "<a href=\"https://colab.research.google.com/github/rimbourouphael/NSY107/blob/main/Models_Comparison_Original_Imbalanced_Dataset.ipynb\" target=\"_parent\"><img src=\"https://colab.research.google.com/assets/colab-badge.svg\" alt=\"Open In Colab\"/></a>"
      ]
    },
    {
      "cell_type": "markdown",
      "metadata": {
        "id": "MhYqwCVlLWF-"
      },
      "source": [
        "### Models Comparison\n",
        "\n",
        "This code is part our research on malware detection and classification using Deep Learning and Deep Graph Convolutional Neural Networks.\n",
        "\n",
        "For more information or citation, please refer to our research paper:\n",
        "\n",
        "\"Oliveira, Angelo; Sassi, Renato José (2019): Behavioral Malware Detection Using Deep Graph Convolutional Neural Networks. TechRxiv. Preprint.\" at https://doi.org/10.36227/techrxiv.10043099.v1\n",
        "\n",
        "For the dataset, please refer to our repository: \n",
        "\n",
        "https://ieee-dataport.org/open-access/malware-analysis-datasets-api-call-sequences\n",
        "\n",
        "#### Original (imbalanced) Balanced Dataset"
      ]
    },
    {
      "cell_type": "code",
      "source": [
        "!pip install skorch"
      ],
      "metadata": {
        "id": "Eo_DpC7ZLY0U",
        "outputId": "eb5a2798-4b2e-4077-c3ef-92a246bf1a0d",
        "colab": {
          "base_uri": "https://localhost:8080/"
        }
      },
      "execution_count": 1,
      "outputs": [
        {
          "output_type": "stream",
          "name": "stdout",
          "text": [
            "Looking in indexes: https://pypi.org/simple, https://us-python.pkg.dev/colab-wheels/public/simple/\n",
            "Collecting skorch\n",
            "  Downloading skorch-0.11.0-py3-none-any.whl (155 kB)\n",
            "\u001b[K     |████████████████████████████████| 155 kB 13.8 MB/s \n",
            "\u001b[?25hRequirement already satisfied: numpy>=1.13.3 in /usr/local/lib/python3.7/dist-packages (from skorch) (1.21.6)\n",
            "Requirement already satisfied: tabulate>=0.7.7 in /usr/local/lib/python3.7/dist-packages (from skorch) (0.8.9)\n",
            "Requirement already satisfied: scipy>=1.1.0 in /usr/local/lib/python3.7/dist-packages (from skorch) (1.4.1)\n",
            "Requirement already satisfied: scikit-learn>=0.19.1 in /usr/local/lib/python3.7/dist-packages (from skorch) (1.0.2)\n",
            "Requirement already satisfied: tqdm>=4.14.0 in /usr/local/lib/python3.7/dist-packages (from skorch) (4.64.0)\n",
            "Requirement already satisfied: threadpoolctl>=2.0.0 in /usr/local/lib/python3.7/dist-packages (from scikit-learn>=0.19.1->skorch) (3.1.0)\n",
            "Requirement already satisfied: joblib>=0.11 in /usr/local/lib/python3.7/dist-packages (from scikit-learn>=0.19.1->skorch) (1.1.0)\n",
            "Installing collected packages: skorch\n",
            "Successfully installed skorch-0.11.0\n"
          ]
        }
      ]
    },
    {
      "cell_type": "code",
      "execution_count": 2,
      "metadata": {
        "id": "4OvrwKkFLWGJ"
      },
      "outputs": [],
      "source": [
        "import numpy as np\n",
        "SEED = 137\n",
        "np.random.seed(SEED)\n",
        "\n",
        "import time\n",
        "from collections import Counter\n",
        "\n",
        "import pandas as pd\n",
        "\n",
        "from sklearn.model_selection import train_test_split\n",
        "from sklearn.metrics import accuracy_score, recall_score, confusion_matrix\n",
        "from sklearn.metrics import precision_score, f1_score, roc_auc_score, roc_curve\n",
        "from sklearn import decomposition\n",
        "\n",
        "from imblearn.under_sampling import RandomUnderSampler\n",
        "from imblearn.pipeline import Pipeline\n",
        "\n",
        "import torch\n",
        "torch.manual_seed(SEED)\n",
        "import torch.nn as nn\n",
        "import torch.nn.functional as F\n",
        "\n",
        "from skorch.classifier import NeuralNetBinaryClassifier\n",
        "\n",
        "import matplotlib.pyplot as plt\n",
        "from matplotlib import pyplot"
      ]
    },
    {
      "cell_type": "markdown",
      "metadata": {
        "id": "gr0EPePMLWGN"
      },
      "source": [
        "### Data Preprocessing"
      ]
    },
    {
      "cell_type": "code",
      "execution_count": 3,
      "metadata": {
        "id": "KUvnUgBmLWGP",
        "outputId": "e9a5e801-f8c3-4a5d-f69f-b4781a0e82d8",
        "colab": {
          "base_uri": "https://localhost:8080/",
          "height": 0
        }
      },
      "outputs": [
        {
          "output_type": "execute_result",
          "data": {
            "text/plain": [
              "                               hash  t_0  t_1  t_2  t_3  t_4  t_5  t_6  t_7  \\\n",
              "0  071e8c3f8922e186e57548cd4c703a5d  112  274  158  215  274  158  215  298   \n",
              "1  33f8e6d08a6aae939f25a8e0d63dd523   82  208  187  208  172  117  172  117   \n",
              "2  b68abd064e975e1c6d5f25e748663076   16  110  240  117  240  117  240  117   \n",
              "3  72049be7bd30ea61297ea624ae198067   82  208  187  208  172  117  172  117   \n",
              "4  c9b3700a77facf29172f32df6bc77f48   82  240  117  240  117  240  117  240   \n",
              "\n",
              "   t_8  ...  t_91  t_92  t_93  t_94  t_95  t_96  t_97  t_98  t_99  malware  \n",
              "0   76  ...    71   297   135   171   215    35   208    56    71        1  \n",
              "1  172  ...    81   240   117    71   297   135   171   215    35        1  \n",
              "2  240  ...    65   112   123    65   112   123    65   113   112        1  \n",
              "3  172  ...   208   302   208   302   187   208   302   228   302        1  \n",
              "4  117  ...   209   260    40   209   260   141   260   141   260        1  \n",
              "\n",
              "[5 rows x 102 columns]"
            ],
            "text/html": [
              "\n",
              "  <div id=\"df-ad2ec7a8-a510-4297-abbe-543022c088ce\">\n",
              "    <div class=\"colab-df-container\">\n",
              "      <div>\n",
              "<style scoped>\n",
              "    .dataframe tbody tr th:only-of-type {\n",
              "        vertical-align: middle;\n",
              "    }\n",
              "\n",
              "    .dataframe tbody tr th {\n",
              "        vertical-align: top;\n",
              "    }\n",
              "\n",
              "    .dataframe thead th {\n",
              "        text-align: right;\n",
              "    }\n",
              "</style>\n",
              "<table border=\"1\" class=\"dataframe\">\n",
              "  <thead>\n",
              "    <tr style=\"text-align: right;\">\n",
              "      <th></th>\n",
              "      <th>hash</th>\n",
              "      <th>t_0</th>\n",
              "      <th>t_1</th>\n",
              "      <th>t_2</th>\n",
              "      <th>t_3</th>\n",
              "      <th>t_4</th>\n",
              "      <th>t_5</th>\n",
              "      <th>t_6</th>\n",
              "      <th>t_7</th>\n",
              "      <th>t_8</th>\n",
              "      <th>...</th>\n",
              "      <th>t_91</th>\n",
              "      <th>t_92</th>\n",
              "      <th>t_93</th>\n",
              "      <th>t_94</th>\n",
              "      <th>t_95</th>\n",
              "      <th>t_96</th>\n",
              "      <th>t_97</th>\n",
              "      <th>t_98</th>\n",
              "      <th>t_99</th>\n",
              "      <th>malware</th>\n",
              "    </tr>\n",
              "  </thead>\n",
              "  <tbody>\n",
              "    <tr>\n",
              "      <th>0</th>\n",
              "      <td>071e8c3f8922e186e57548cd4c703a5d</td>\n",
              "      <td>112</td>\n",
              "      <td>274</td>\n",
              "      <td>158</td>\n",
              "      <td>215</td>\n",
              "      <td>274</td>\n",
              "      <td>158</td>\n",
              "      <td>215</td>\n",
              "      <td>298</td>\n",
              "      <td>76</td>\n",
              "      <td>...</td>\n",
              "      <td>71</td>\n",
              "      <td>297</td>\n",
              "      <td>135</td>\n",
              "      <td>171</td>\n",
              "      <td>215</td>\n",
              "      <td>35</td>\n",
              "      <td>208</td>\n",
              "      <td>56</td>\n",
              "      <td>71</td>\n",
              "      <td>1</td>\n",
              "    </tr>\n",
              "    <tr>\n",
              "      <th>1</th>\n",
              "      <td>33f8e6d08a6aae939f25a8e0d63dd523</td>\n",
              "      <td>82</td>\n",
              "      <td>208</td>\n",
              "      <td>187</td>\n",
              "      <td>208</td>\n",
              "      <td>172</td>\n",
              "      <td>117</td>\n",
              "      <td>172</td>\n",
              "      <td>117</td>\n",
              "      <td>172</td>\n",
              "      <td>...</td>\n",
              "      <td>81</td>\n",
              "      <td>240</td>\n",
              "      <td>117</td>\n",
              "      <td>71</td>\n",
              "      <td>297</td>\n",
              "      <td>135</td>\n",
              "      <td>171</td>\n",
              "      <td>215</td>\n",
              "      <td>35</td>\n",
              "      <td>1</td>\n",
              "    </tr>\n",
              "    <tr>\n",
              "      <th>2</th>\n",
              "      <td>b68abd064e975e1c6d5f25e748663076</td>\n",
              "      <td>16</td>\n",
              "      <td>110</td>\n",
              "      <td>240</td>\n",
              "      <td>117</td>\n",
              "      <td>240</td>\n",
              "      <td>117</td>\n",
              "      <td>240</td>\n",
              "      <td>117</td>\n",
              "      <td>240</td>\n",
              "      <td>...</td>\n",
              "      <td>65</td>\n",
              "      <td>112</td>\n",
              "      <td>123</td>\n",
              "      <td>65</td>\n",
              "      <td>112</td>\n",
              "      <td>123</td>\n",
              "      <td>65</td>\n",
              "      <td>113</td>\n",
              "      <td>112</td>\n",
              "      <td>1</td>\n",
              "    </tr>\n",
              "    <tr>\n",
              "      <th>3</th>\n",
              "      <td>72049be7bd30ea61297ea624ae198067</td>\n",
              "      <td>82</td>\n",
              "      <td>208</td>\n",
              "      <td>187</td>\n",
              "      <td>208</td>\n",
              "      <td>172</td>\n",
              "      <td>117</td>\n",
              "      <td>172</td>\n",
              "      <td>117</td>\n",
              "      <td>172</td>\n",
              "      <td>...</td>\n",
              "      <td>208</td>\n",
              "      <td>302</td>\n",
              "      <td>208</td>\n",
              "      <td>302</td>\n",
              "      <td>187</td>\n",
              "      <td>208</td>\n",
              "      <td>302</td>\n",
              "      <td>228</td>\n",
              "      <td>302</td>\n",
              "      <td>1</td>\n",
              "    </tr>\n",
              "    <tr>\n",
              "      <th>4</th>\n",
              "      <td>c9b3700a77facf29172f32df6bc77f48</td>\n",
              "      <td>82</td>\n",
              "      <td>240</td>\n",
              "      <td>117</td>\n",
              "      <td>240</td>\n",
              "      <td>117</td>\n",
              "      <td>240</td>\n",
              "      <td>117</td>\n",
              "      <td>240</td>\n",
              "      <td>117</td>\n",
              "      <td>...</td>\n",
              "      <td>209</td>\n",
              "      <td>260</td>\n",
              "      <td>40</td>\n",
              "      <td>209</td>\n",
              "      <td>260</td>\n",
              "      <td>141</td>\n",
              "      <td>260</td>\n",
              "      <td>141</td>\n",
              "      <td>260</td>\n",
              "      <td>1</td>\n",
              "    </tr>\n",
              "  </tbody>\n",
              "</table>\n",
              "<p>5 rows × 102 columns</p>\n",
              "</div>\n",
              "      <button class=\"colab-df-convert\" onclick=\"convertToInteractive('df-ad2ec7a8-a510-4297-abbe-543022c088ce')\"\n",
              "              title=\"Convert this dataframe to an interactive table.\"\n",
              "              style=\"display:none;\">\n",
              "        \n",
              "  <svg xmlns=\"http://www.w3.org/2000/svg\" height=\"24px\"viewBox=\"0 0 24 24\"\n",
              "       width=\"24px\">\n",
              "    <path d=\"M0 0h24v24H0V0z\" fill=\"none\"/>\n",
              "    <path d=\"M18.56 5.44l.94 2.06.94-2.06 2.06-.94-2.06-.94-.94-2.06-.94 2.06-2.06.94zm-11 1L8.5 8.5l.94-2.06 2.06-.94-2.06-.94L8.5 2.5l-.94 2.06-2.06.94zm10 10l.94 2.06.94-2.06 2.06-.94-2.06-.94-.94-2.06-.94 2.06-2.06.94z\"/><path d=\"M17.41 7.96l-1.37-1.37c-.4-.4-.92-.59-1.43-.59-.52 0-1.04.2-1.43.59L10.3 9.45l-7.72 7.72c-.78.78-.78 2.05 0 2.83L4 21.41c.39.39.9.59 1.41.59.51 0 1.02-.2 1.41-.59l7.78-7.78 2.81-2.81c.8-.78.8-2.07 0-2.86zM5.41 20L4 18.59l7.72-7.72 1.47 1.35L5.41 20z\"/>\n",
              "  </svg>\n",
              "      </button>\n",
              "      \n",
              "  <style>\n",
              "    .colab-df-container {\n",
              "      display:flex;\n",
              "      flex-wrap:wrap;\n",
              "      gap: 12px;\n",
              "    }\n",
              "\n",
              "    .colab-df-convert {\n",
              "      background-color: #E8F0FE;\n",
              "      border: none;\n",
              "      border-radius: 50%;\n",
              "      cursor: pointer;\n",
              "      display: none;\n",
              "      fill: #1967D2;\n",
              "      height: 32px;\n",
              "      padding: 0 0 0 0;\n",
              "      width: 32px;\n",
              "    }\n",
              "\n",
              "    .colab-df-convert:hover {\n",
              "      background-color: #E2EBFA;\n",
              "      box-shadow: 0px 1px 2px rgba(60, 64, 67, 0.3), 0px 1px 3px 1px rgba(60, 64, 67, 0.15);\n",
              "      fill: #174EA6;\n",
              "    }\n",
              "\n",
              "    [theme=dark] .colab-df-convert {\n",
              "      background-color: #3B4455;\n",
              "      fill: #D2E3FC;\n",
              "    }\n",
              "\n",
              "    [theme=dark] .colab-df-convert:hover {\n",
              "      background-color: #434B5C;\n",
              "      box-shadow: 0px 1px 3px 1px rgba(0, 0, 0, 0.15);\n",
              "      filter: drop-shadow(0px 1px 2px rgba(0, 0, 0, 0.3));\n",
              "      fill: #FFFFFF;\n",
              "    }\n",
              "  </style>\n",
              "\n",
              "      <script>\n",
              "        const buttonEl =\n",
              "          document.querySelector('#df-ad2ec7a8-a510-4297-abbe-543022c088ce button.colab-df-convert');\n",
              "        buttonEl.style.display =\n",
              "          google.colab.kernel.accessAllowed ? 'block' : 'none';\n",
              "\n",
              "        async function convertToInteractive(key) {\n",
              "          const element = document.querySelector('#df-ad2ec7a8-a510-4297-abbe-543022c088ce');\n",
              "          const dataTable =\n",
              "            await google.colab.kernel.invokeFunction('convertToInteractive',\n",
              "                                                     [key], {});\n",
              "          if (!dataTable) return;\n",
              "\n",
              "          const docLinkHtml = 'Like what you see? Visit the ' +\n",
              "            '<a target=\"_blank\" href=https://colab.research.google.com/notebooks/data_table.ipynb>data table notebook</a>'\n",
              "            + ' to learn more about interactive tables.';\n",
              "          element.innerHTML = '';\n",
              "          dataTable['output_type'] = 'display_data';\n",
              "          await google.colab.output.renderOutput(dataTable, element);\n",
              "          const docLink = document.createElement('div');\n",
              "          docLink.innerHTML = docLinkHtml;\n",
              "          element.appendChild(docLink);\n",
              "        }\n",
              "      </script>\n",
              "    </div>\n",
              "  </div>\n",
              "  "
            ]
          },
          "metadata": {},
          "execution_count": 3
        }
      ],
      "source": [
        "df = pd.read_csv('https://raw.githubusercontent.com/rimbourouphael/NSY107/main/dynamic_api_call_sequence_per_malware_100_0_306.csv')\n",
        "df.head()"
      ]
    },
    {
      "cell_type": "code",
      "execution_count": 4,
      "metadata": {
        "id": "QLQkNgRqLWGR",
        "outputId": "8399eaf9-396d-4330-b7e4-a28e8876e0d9",
        "colab": {
          "base_uri": "https://localhost:8080/"
        }
      },
      "outputs": [
        {
          "output_type": "stream",
          "name": "stdout",
          "text": [
            "<class 'pandas.core.frame.DataFrame'>\n",
            "RangeIndex: 43876 entries, 0 to 43875\n",
            "Columns: 102 entries, hash to malware\n",
            "dtypes: int64(101), object(1)\n",
            "memory usage: 34.1+ MB\n"
          ]
        }
      ],
      "source": [
        "df.info()"
      ]
    },
    {
      "cell_type": "code",
      "execution_count": 5,
      "metadata": {
        "id": "M1a-IQ8QLWGS",
        "outputId": "b368449c-2b67-4397-e20c-ee787b111e16",
        "colab": {
          "base_uri": "https://localhost:8080/"
        }
      },
      "outputs": [
        {
          "output_type": "stream",
          "name": "stdout",
          "text": [
            "(43876, 100)\n",
            "(43876,)\n"
          ]
        }
      ],
      "source": [
        "X = df.drop(['hash', 'malware'], axis = 1).values.astype(int)\n",
        "y = df['malware'].values.astype(int)\n",
        "print(X.shape)\n",
        "print(y.shape)"
      ]
    },
    {
      "cell_type": "code",
      "execution_count": 6,
      "metadata": {
        "id": "mqFX5hqlLWGU",
        "outputId": "bef8e009-b173-4fa7-f60c-fee63e833c48",
        "colab": {
          "base_uri": "https://localhost:8080/"
        }
      },
      "outputs": [
        {
          "output_type": "stream",
          "name": "stdout",
          "text": [
            "0\n",
            "306\n"
          ]
        }
      ],
      "source": [
        "print(X.min())\n",
        "print(X.max())"
      ]
    },
    {
      "cell_type": "code",
      "execution_count": 7,
      "metadata": {
        "id": "2mJJ1uBELWGW"
      },
      "outputs": [],
      "source": [
        "def check_imbalance(dataset):\n",
        "    count = sorted(Counter(dataset).items())\n",
        "    print(count)\n",
        "    print(count[1][1] / count[0][1])\n",
        "    return"
      ]
    },
    {
      "cell_type": "code",
      "execution_count": 8,
      "metadata": {
        "id": "05jz5czFLWGX",
        "outputId": "d7f0b40d-a3a1-4e9c-b5ce-e7945cddd7db",
        "colab": {
          "base_uri": "https://localhost:8080/"
        }
      },
      "outputs": [
        {
          "output_type": "stream",
          "name": "stdout",
          "text": [
            "[(0, 1079), (1, 42797)]\n",
            "39.66357738646895\n"
          ]
        }
      ],
      "source": [
        "check_imbalance(y)"
      ]
    },
    {
      "cell_type": "code",
      "execution_count": 9,
      "metadata": {
        "id": "sYDwEZMRLWGZ"
      },
      "outputs": [],
      "source": [
        "X_train, X_test, y_train, y_test = train_test_split(X, y, test_size = 0.3, random_state = SEED)"
      ]
    },
    {
      "cell_type": "code",
      "execution_count": 10,
      "metadata": {
        "id": "etX8NwlaLWGa",
        "outputId": "67da3fa0-f7be-41a7-c295-d48d51fcd3bb",
        "colab": {
          "base_uri": "https://localhost:8080/"
        }
      },
      "outputs": [
        {
          "output_type": "stream",
          "name": "stdout",
          "text": [
            "[(0, 731), (1, 29982)]\n",
            "41.015047879616965\n",
            "[(0, 348), (1, 12815)]\n",
            "36.82471264367816\n"
          ]
        }
      ],
      "source": [
        "check_imbalance(y_train)\n",
        "check_imbalance(y_test)\n",
        "\n",
        "del df, X, y"
      ]
    },
    {
      "cell_type": "markdown",
      "metadata": {
        "id": "fcANA2avLWGb"
      },
      "source": [
        "### Models"
      ]
    },
    {
      "cell_type": "markdown",
      "metadata": {
        "id": "GG6VPcUkLWGc"
      },
      "source": [
        "#### DGCNN"
      ]
    },
    {
      "cell_type": "code",
      "execution_count": 11,
      "metadata": {
        "id": "mrOn6Z2NLWGd"
      },
      "outputs": [],
      "source": [
        "def norn_adj(X, input_dim_1):\n",
        "    \n",
        "    A = torch.zeros((X.size(0), input_dim_1, input_dim_1), dtype = torch.float).cuda()\n",
        "        \n",
        "    A_view = A.view(A.size(0), -1)\n",
        "    x_size = X.size(-1)\n",
        "    indices = X.narrow(-1, 0, x_size - 1) * A.stride(1) * A.stride(2) + X.narrow(-1, 1, x_size - 1) * A.stride(2)\n",
        "    A_view.scatter_(1, indices, 1)\n",
        "        \n",
        "    A_hat = A + torch.eye(input_dim_1, dtype = torch.float).cuda()\n",
        "    D_hat = A_hat.sum(dim = 1).pow(-1.0).diag_embed()\n",
        "    \n",
        "    return A_hat, D_hat\n",
        "\n",
        "def to_one_hot(X, input_dim_1):\n",
        "    \n",
        "    X = F.one_hot(X, num_classes = input_dim_1).float()    \n",
        "    X = X.permute(0, 2, 1)\n",
        "    \n",
        "    return X\n",
        "\n",
        "class DGCNN_network(nn.Module):\n",
        "    \n",
        "    def __init__(self, weight_dim_1, weight_dim_2):\n",
        "\n",
        "        super(DGCNN_network, self).__init__()\n",
        "        self.weight_dim_1 = weight_dim_1\n",
        "        self.weight_dim_2 = weight_dim_2        \n",
        "        self.weights = nn.Parameter(torch.rand((self.weight_dim_1, weight_dim_2), dtype = torch.float, requires_grad = True))\n",
        "        \n",
        "    def forward(self, A_hat, D_hat, X):\n",
        "        return D_hat.matmul(A_hat).matmul(X).matmul(self.weights)"
      ]
    },
    {
      "cell_type": "markdown",
      "metadata": {
        "id": "TVZPVhMoLWGf"
      },
      "source": [
        "#### Model-1"
      ]
    },
    {
      "cell_type": "code",
      "execution_count": 12,
      "metadata": {
        "id": "3hkgHsZ4LWGh"
      },
      "outputs": [],
      "source": [
        "H_list_model_1 = []\n",
        "\n",
        "class Model_1_network(nn.Module):\n",
        "    \n",
        "    def __init__(self, input_dim_1, input_dim_2, weight_dim_2, dropout_rate):\n",
        "        \n",
        "        super(Model_1_network, self).__init__()\n",
        "        \n",
        "        self.input_dim_1 = input_dim_1\n",
        "        self.input_dim_2 = input_dim_2\n",
        "        self.weight_dim_1 = input_dim_2\n",
        "        self.weight_dim_2 = weight_dim_2\n",
        "        self.dropout_rate = dropout_rate\n",
        "        \n",
        "        self.dgcnn = DGCNN_network(self.weight_dim_1, self.weight_dim_2)\n",
        "        self.dropout = nn.Dropout(p = self.dropout_rate)\n",
        "        self.fc = nn.Linear(self.input_dim_1 * self.weight_dim_2, 1)\n",
        "        \n",
        "    def forward(self, X):\n",
        "        \n",
        "        A_hat, D_hat = norn_adj(X, input_dim_1)\n",
        "        X = to_one_hot(X, input_dim_1)\n",
        "\n",
        "        H = self.dgcnn(A_hat, D_hat, X)\n",
        "        H = self.dropout(H)\n",
        "        H = torch.relu(H)\n",
        "        H = H.view(H.size(0), -1)\n",
        "        \n",
        "        # Visualization\n",
        "        if not self.training:\n",
        "            H_list_model_1.append(H.cpu())\n",
        "        \n",
        "        H = self.fc(H)\n",
        "                \n",
        "        return H.squeeze()"
      ]
    },
    {
      "cell_type": "markdown",
      "metadata": {
        "id": "qyN3Zct1LWGj"
      },
      "source": [
        "#### Model-2"
      ]
    },
    {
      "cell_type": "code",
      "execution_count": 13,
      "metadata": {
        "id": "2MglFz4ULWGj"
      },
      "outputs": [],
      "source": [
        "H_list_model_2 = []\n",
        "\n",
        "class Model_2_network(nn.Module):\n",
        "    \n",
        "    def __init__(self, input_dim_1, input_dim_2, weight_dim_2, weight_dim_4, dropout_rate):\n",
        "    \n",
        "        super(Model_2_network, self).__init__()\n",
        "        \n",
        "        self.input_dim_1 = input_dim_1\n",
        "        self.input_dim_2 = input_dim_2\n",
        "        self.weight_dim_1 = input_dim_2\n",
        "        self.weight_dim_2 = weight_dim_2\n",
        "        self.weight_dim_3 = weight_dim_2\n",
        "        self.weight_dim_4 = weight_dim_4\n",
        "        self.dropout_rate = dropout_rate\n",
        "        \n",
        "        self.dgcnn_1 = DGCNN_network(self.weight_dim_1, self.weight_dim_2)\n",
        "        self.dropout = nn.Dropout(p = self.dropout_rate)\n",
        "        self.dgcnn_2 = DGCNN_network(self.weight_dim_3, self.weight_dim_4)\n",
        "        self.fc = nn.Linear(self.input_dim_1 * (self.weight_dim_2 + self.weight_dim_4), 1)\n",
        "        \n",
        "    def forward(self, X):\n",
        "        \n",
        "        A_hat, D_hat = norn_adj(X, input_dim_1)\n",
        "        X = to_one_hot(X, input_dim_1)        \n",
        "\n",
        "        H_1 = self.dgcnn_1(A_hat, D_hat, X)\n",
        "        H_1 = self.dropout(H_1)\n",
        "        H_1 = torch.relu(H_1)\n",
        "        H_2 = self.dgcnn_2(A_hat, D_hat, H_1)\n",
        "        H_2 = self.dropout(H_2)\n",
        "        H_2 = torch.relu(H_2)\n",
        "        H_2 = torch.cat([H_1, H_2], 2)\n",
        "        H_2 = H_2.view(H_2.size(0), -1)\n",
        "\n",
        "        # Visualization\n",
        "        if not self.training:\n",
        "            H_list_model_2.append(H_2.cpu())        \n",
        "        \n",
        "        H_2 = self.fc(H_2)\n",
        "                \n",
        "        return H_2.squeeze()"
      ]
    },
    {
      "cell_type": "markdown",
      "metadata": {
        "id": "jPdE8RKzLWGk"
      },
      "source": [
        "#### LSTM"
      ]
    },
    {
      "cell_type": "code",
      "execution_count": 14,
      "metadata": {
        "id": "iEg5d0RrLWGl"
      },
      "outputs": [],
      "source": [
        "H_list_lstm = []\n",
        "\n",
        "class LSTM_network(nn.Module):\n",
        "    \n",
        "    def __init__(self, input_dim, hidden_dim, dropout_rate):\n",
        "        \n",
        "        super(LSTM_network, self).__init__()\n",
        "        \n",
        "        self.input_dim = input_dim\n",
        "        self.hidden_dim = hidden_dim\n",
        "        self.dropout_rate = dropout_rate\n",
        "        \n",
        "        self.lstm = nn.LSTM(self.input_dim, self.hidden_dim, batch_first = True)\n",
        "        self.dropout = nn.Dropout(p = self.dropout_rate)\n",
        "        self.fc = nn.Linear(self.hidden_dim, 1)\n",
        "        \n",
        "    def forward(self, X):\n",
        "        \n",
        "        X = F.one_hot(X, num_classes = self.input_dim).float().cuda()\n",
        "        \n",
        "        # Hidden layer shape: (num_layers, batch_size, hidden_dim)\n",
        "        hidden_0 = (torch.zeros(1, X.size(0), self.hidden_dim).float().cuda(),\n",
        "                    torch.zeros(1, X.size(0), self.hidden_dim).float().cuda())\n",
        "        \n",
        "        # Input/Output shape: (batch_size, seq_len, input_dim)\n",
        "        _, self.hidden = self.lstm(X, hidden_0)\n",
        "                \n",
        "        H = self.hidden[0].squeeze()\n",
        "        H = self.dropout(H)\n",
        "        \n",
        "        # Visualization\n",
        "        H_list_lstm.append(H.cpu())\n",
        "        \n",
        "        H = self.fc(H)\n",
        "                \n",
        "        return H.squeeze()"
      ]
    },
    {
      "cell_type": "markdown",
      "metadata": {
        "id": "7vvkRFwULWGm"
      },
      "source": [
        "### Evaluation"
      ]
    },
    {
      "cell_type": "code",
      "execution_count": 15,
      "metadata": {
        "id": "b8gVnmbsLWGm"
      },
      "outputs": [],
      "source": [
        "def model_evaluate(y, pred):\n",
        "    print('Confusion matrix\\n[TN FP]\\n[FN TP]')\n",
        "    print(confusion_matrix(y >= 0.5, pred >= 0.5))\n",
        "    print(f'F1-Score: {f1_score(y >= 0.5, pred >= 0.5):.4f}')\n",
        "    print(f'ROC AUC: {roc_auc_score(y, pred):.4f}')\n",
        "    return"
      ]
    },
    {
      "cell_type": "markdown",
      "metadata": {
        "id": "oudJ3ig9LWGm"
      },
      "source": [
        "#### LSTM"
      ]
    },
    {
      "cell_type": "code",
      "execution_count": 23,
      "metadata": {
        "id": "0GaXhjLuLWGn",
        "outputId": "e1811824-b3fb-41c7-f6cc-cd3288f5a645",
        "colab": {
          "base_uri": "https://localhost:8080/"
        }
      },
      "outputs": [
        {
          "output_type": "stream",
          "name": "stderr",
          "text": [
            "/usr/local/lib/python3.7/dist-packages/ipykernel_launcher.py:26: DeprecationWarning: `np.float` is a deprecated alias for the builtin `float`. To silence this warning, use `float` by itself. Doing this will not modify any behavior and is safe. If you specifically wanted the numpy scalar type, use `np.float64` here.\n",
            "Deprecated in NumPy 1.20; for more details and guidance: https://numpy.org/devdocs/release/1.20.0-notes.html#deprecations\n"
          ]
        },
        {
          "output_type": "stream",
          "name": "stdout",
          "text": [
            "  epoch    train_loss     dur\n",
            "-------  ------------  ------\n",
            "      1        \u001b[36m0.1195\u001b[0m  1.9272\n",
            "      2        \u001b[36m0.0825\u001b[0m  1.7876\n",
            "      3        \u001b[36m0.0810\u001b[0m  1.7761\n",
            "      4        \u001b[36m0.0667\u001b[0m  1.7974\n",
            "      5        \u001b[36m0.0564\u001b[0m  1.7895\n",
            "      6        \u001b[36m0.0504\u001b[0m  1.7940\n",
            "      7        \u001b[36m0.0432\u001b[0m  1.7963\n",
            "      8        \u001b[36m0.0399\u001b[0m  2.3066\n",
            "      9        0.0415  1.7940\n",
            "     10        \u001b[36m0.0359\u001b[0m  1.8067\n",
            "     11        \u001b[36m0.0312\u001b[0m  1.8123\n",
            "     12        \u001b[36m0.0286\u001b[0m  1.8017\n",
            "     13        \u001b[36m0.0260\u001b[0m  1.8082\n",
            "     14        0.0265  1.8089\n",
            "     15        \u001b[36m0.0205\u001b[0m  1.7935\n",
            "     16        \u001b[36m0.0188\u001b[0m  1.8058\n",
            "     17        \u001b[36m0.0172\u001b[0m  1.8125\n",
            "     18        \u001b[36m0.0156\u001b[0m  1.8174\n",
            "     19        0.0717  1.7982\n",
            "     20        0.0577  1.8035\n",
            "     21        0.0432  1.8169\n",
            "     22        0.0298  2.4312\n",
            "     23        0.0242  2.5480\n",
            "     24        0.0198  2.3620\n",
            "     25        0.0183  2.8862\n",
            "     26        0.0162  1.9937\n",
            "     27        \u001b[36m0.0145\u001b[0m  1.8184\n",
            "     28        0.0146  1.8106\n",
            "     29        \u001b[36m0.0120\u001b[0m  1.8096\n",
            "     30        0.0143  1.8212\n"
          ]
        },
        {
          "output_type": "execute_result",
          "data": {
            "text/plain": [
              "Pipeline(steps=[('model',\n",
              "                 <class 'skorch.classifier.NeuralNetBinaryClassifier'>[initialized](\n",
              "  module_=LSTM_network(\n",
              "    (lstm): LSTM(307, 70, batch_first=True)\n",
              "    (dropout): Dropout(p=0.5, inplace=False)\n",
              "    (fc): Linear(in_features=70, out_features=1, bias=True)\n",
              "  ),\n",
              "))])"
            ]
          },
          "metadata": {},
          "execution_count": 23
        }
      ],
      "source": [
        "torch.manual_seed(SEED)\n",
        "\n",
        "input_dim = 307\n",
        "hidden_dim = 70\n",
        "dropout_rate = 0.5\n",
        "batch_size = 128\n",
        "max_epochs = 30\n",
        "\n",
        "LSTM = NeuralNetBinaryClassifier(\n",
        "    LSTM_network,\n",
        "    module__input_dim = input_dim,\n",
        "    module__hidden_dim = hidden_dim,\n",
        "    module__dropout_rate = dropout_rate,\n",
        "    batch_size = batch_size,\n",
        "    max_epochs = max_epochs,\n",
        "    train_split = None,\n",
        "    optimizer = torch.optim.Adam,\n",
        "    iterator_train__shuffle = True,\n",
        "    device = 'cuda'\n",
        ")\n",
        "\n",
        "pipe = Pipeline([\n",
        "    ('model', LSTM)\n",
        "])\n",
        "\n",
        "pipe.fit(X_train, y_train.astype(np.float))"
      ]
    },
    {
      "cell_type": "code",
      "execution_count": 24,
      "metadata": {
        "id": "8gapbaSHLWGn",
        "outputId": "d1639ed4-fda1-4ab8-c380-c5aa35786d5e",
        "colab": {
          "base_uri": "https://localhost:8080/"
        }
      },
      "outputs": [
        {
          "output_type": "stream",
          "name": "stdout",
          "text": [
            "Confusion matrix\n",
            "[TN FP]\n",
            "[FN TP]\n",
            "[[    0   348]\n",
            " [    0 12815]]\n",
            "F1-Score: 0.9866\n",
            "ROC AUC: 0.5000\n",
            "Confusion matrix\n",
            "[TN FP]\n",
            "[FN TP]\n",
            "[[  272    76]\n",
            " [   52 12763]]\n",
            "F1-Score: 0.9950\n",
            "ROC AUC: 0.9866\n"
          ]
        }
      ],
      "source": [
        "H_list_lstm.clear()\n",
        "\n",
        "X_test_predictions_1 = pipe.predict_proba(X_test)[:, 1]\n",
        "model_evaluate(y_test, np.ones(len(y_test)))\n",
        "model_evaluate(y_test, X_test_predictions_1)"
      ]
    },
    {
      "cell_type": "code",
      "execution_count": 25,
      "metadata": {
        "id": "q-o4PrCnLWGo",
        "outputId": "0f952cff-2efe-42b6-d697-04384b440d42",
        "colab": {
          "base_uri": "https://localhost:8080/",
          "height": 265
        }
      },
      "outputs": [
        {
          "output_type": "display_data",
          "data": {
            "text/plain": [
              "<Figure size 432x288 with 1 Axes>"
            ],
            "image/png": "[encoded data removed]"
          },
          "metadata": {
            "needs_background": "light"
          }
        }
      ],
      "source": [
        "fpr_1, tpr_1, thresholds_1 = roc_curve(y_test, X_test_predictions_1)\n",
        "pyplot.plot([0, 1], [0, 1], linestyle='--')\n",
        "pyplot.plot(fpr_1, tpr_1)\n",
        "pyplot.show()"
      ]
    },
    {
      "cell_type": "code",
      "execution_count": 26,
      "metadata": {
        "id": "v0IvM5kyLWGp",
        "outputId": "828adf51-3cda-4b5f-fe99-da2ee10448f8",
        "colab": {
          "base_uri": "https://localhost:8080/",
          "height": 513
        }
      },
      "outputs": [
        {
          "output_type": "display_data",
          "data": {
            "text/plain": [
              "<Figure size 432x288 with 1 Axes>"
            ],
            "image/png": "[encoded data removed]"
          },
          "metadata": {
            "needs_background": "light"
          }
        },
        {
          "output_type": "display_data",
          "data": {
            "text/plain": [
              "<Figure size 432x288 with 1 Axes>"
            ],
            "image/png": "[encoded data removed]"
          },
          "metadata": {
            "needs_background": "light"
          }
        }
      ],
      "source": [
        "X = X_test / np.max(X_test)\n",
        "pca = decomposition.PCA(n_components = 2)\n",
        "X = pca.fit_transform(X)\n",
        "points = np.arange(X.shape[0])\n",
        "plt.scatter(X[points, 0], X[points, 1], color = ['red' if l == 1 else 'green' for l in y_test[points]])\n",
        "plt.savefig('test_1.pdf')\n",
        "plt.show()\n",
        "\n",
        "result = torch.zeros(1, 70)\n",
        "\n",
        "\n",
        "for i in H_list_lstm:\n",
        "    result = torch.cat([result, i.cpu()], 0)\n",
        "\n",
        "X_result = result.numpy()[1:]\n",
        "\n",
        "\n",
        "X = X_result / np.max(X_result)\n",
        "pca = decomposition.PCA(n_components = 2)\n",
        "X = pca.fit_transform(X)\n",
        "#points = np.arange(X.shape[0])\n",
        "\n",
        "plt.scatter(X[points, 0], X[points, 1], color = ['red' if l == 1 else 'green' for l in y_test[points]])\n",
        "plt.savefig('test_2.pdf')\n",
        "plt.show()"
      ]
    },
    {
      "cell_type": "markdown",
      "metadata": {
        "id": "8fNsrxXyLWGp"
      },
      "source": [
        "#### Model-1"
      ]
    },
    {
      "cell_type": "code",
      "execution_count": 27,
      "metadata": {
        "id": "S9j7En00LWGp",
        "outputId": "df794877-27bc-4272-83a2-cb58bc7db468",
        "colab": {
          "base_uri": "https://localhost:8080/"
        }
      },
      "outputs": [
        {
          "output_type": "stream",
          "name": "stderr",
          "text": [
            "/usr/local/lib/python3.7/dist-packages/ipykernel_launcher.py:28: DeprecationWarning: `np.float` is a deprecated alias for the builtin `float`. To silence this warning, use `float` by itself. Doing this will not modify any behavior and is safe. If you specifically wanted the numpy scalar type, use `np.float64` here.\n",
            "Deprecated in NumPy 1.20; for more details and guidance: https://numpy.org/devdocs/release/1.20.0-notes.html#deprecations\n"
          ]
        },
        {
          "output_type": "stream",
          "name": "stdout",
          "text": [
            "  epoch    train_loss     dur\n",
            "-------  ------------  ------\n",
            "      1        \u001b[36m0.1687\u001b[0m  6.0029\n",
            "      2        \u001b[36m0.0455\u001b[0m  5.9029\n",
            "      3        \u001b[36m0.0369\u001b[0m  5.9223\n",
            "      4        \u001b[36m0.0311\u001b[0m  5.8483\n",
            "      5        \u001b[36m0.0288\u001b[0m  5.8286\n",
            "      6        \u001b[36m0.0248\u001b[0m  5.7923\n",
            "      7        0.0288  5.8010\n",
            "      8        \u001b[36m0.0237\u001b[0m  8.9641\n",
            "      9        0.0244  8.5189\n",
            "     10        0.0241  9.7677\n"
          ]
        },
        {
          "output_type": "execute_result",
          "data": {
            "text/plain": [
              "Pipeline(steps=[('model',\n",
              "                 <class 'skorch.classifier.NeuralNetBinaryClassifier'>[initialized](\n",
              "  module_=Model_1_network(\n",
              "    (dgcnn): DGCNN_network()\n",
              "    (dropout): Dropout(p=0.6, inplace=False)\n",
              "    (fc): Linear(in_features=9517, out_features=1, bias=True)\n",
              "  ),\n",
              "))])"
            ]
          },
          "metadata": {},
          "execution_count": 27
        }
      ],
      "source": [
        "torch.manual_seed(SEED)\n",
        "\n",
        "input_dim_1 = 307\n",
        "input_dim_2 = 100\n",
        "weight_dim_2 = 31\n",
        "dropout_rate = 0.6\n",
        "batch_size = 128\n",
        "max_epochs = 10\n",
        "\n",
        "model_1 = NeuralNetBinaryClassifier(\n",
        "    Model_1_network,\n",
        "    module__input_dim_1 = input_dim_1,\n",
        "    module__input_dim_2 = input_dim_2,    \n",
        "    module__weight_dim_2 = weight_dim_2,\n",
        "    module__dropout_rate = dropout_rate,\n",
        "    batch_size = batch_size,\n",
        "    max_epochs = max_epochs,\n",
        "    train_split = None,\n",
        "    optimizer = torch.optim.Adam,\n",
        "    iterator_train__shuffle = True,\n",
        "    device = 'cuda'\n",
        ")\n",
        "\n",
        "pipe = Pipeline([\n",
        "    ('model', model_1)\n",
        "])\n",
        "\n",
        "pipe.fit(X_train, y_train.astype(np.float))"
      ]
    },
    {
      "cell_type": "code",
      "execution_count": 28,
      "metadata": {
        "id": "TVhnqBVuLWGq",
        "outputId": "79a570ea-d8e7-4a7e-c8b4-b055fef50bde",
        "colab": {
          "base_uri": "https://localhost:8080/"
        }
      },
      "outputs": [
        {
          "output_type": "stream",
          "name": "stdout",
          "text": [
            "Confusion matrix\n",
            "[TN FP]\n",
            "[FN TP]\n",
            "[[    0   348]\n",
            " [    0 12815]]\n",
            "F1-Score: 0.9866\n",
            "ROC AUC: 0.5000\n",
            "Confusion matrix\n",
            "[TN FP]\n",
            "[FN TP]\n",
            "[[  217   131]\n",
            " [   15 12800]]\n",
            "F1-Score: 0.9943\n",
            "ROC AUC: 0.9753\n"
          ]
        }
      ],
      "source": [
        "H_list_model_1.clear()\n",
        "\n",
        "X_test_predictions_2 = pipe.predict_proba(X_test)[:, 1]\n",
        "model_evaluate(y_test, np.ones(len(y_test)))\n",
        "model_evaluate(y_test, X_test_predictions_2)"
      ]
    },
    {
      "cell_type": "code",
      "execution_count": 29,
      "metadata": {
        "id": "qGzXTCBULWGq",
        "outputId": "88260520-b92e-4733-c995-554ad478727c",
        "colab": {
          "base_uri": "https://localhost:8080/",
          "height": 265
        }
      },
      "outputs": [
        {
          "output_type": "display_data",
          "data": {
            "text/plain": [
              "<Figure size 432x288 with 1 Axes>"
            ],
            "image/png": "[encoded data removed]"
          },
          "metadata": {
            "needs_background": "light"
          }
        }
      ],
      "source": [
        "fpr_2, tpr_2, thresholds_2 = roc_curve(y_test, X_test_predictions_2)\n",
        "pyplot.plot([0, 1], [0, 1], linestyle='--')\n",
        "pyplot.plot(fpr_2, tpr_2)\n",
        "pyplot.show()"
      ]
    },
    {
      "cell_type": "code",
      "execution_count": 30,
      "metadata": {
        "id": "Da4RtbPPLWGr",
        "outputId": "369cfab3-2811-44d4-a005-c4da4c9d8295",
        "colab": {
          "base_uri": "https://localhost:8080/",
          "height": 265
        }
      },
      "outputs": [
        {
          "output_type": "display_data",
          "data": {
            "text/plain": [
              "<Figure size 432x288 with 1 Axes>"
            ],
            "image/png": "[encoded data removed]"
          },
          "metadata": {
            "needs_background": "light"
          }
        }
      ],
      "source": [
        "result = torch.zeros(1, 9517)\n",
        "for i in H_list_model_1:\n",
        "    result = torch.cat([result, i.cpu()], 0)\n",
        "\n",
        "X_result = result.numpy()[1:]\n",
        "\n",
        "\n",
        "X = X_result / np.max(X_result)\n",
        "pca = decomposition.PCA(n_components = 2)\n",
        "X = pca.fit_transform(X)\n",
        "#points = np.arange(X.shape[0])\n",
        "\n",
        "plt.scatter(X[points, 0], X[points, 1], color = ['red' if l == 1 else 'green' for l in y_test[points]])\n",
        "plt.savefig('test_3.pdf')\n",
        "plt.show()"
      ]
    },
    {
      "cell_type": "markdown",
      "metadata": {
        "id": "n7SVk39ULWGr"
      },
      "source": [
        "#### Model-2"
      ]
    },
    {
      "cell_type": "code",
      "execution_count": 31,
      "metadata": {
        "id": "0N5n0wUnLWGr",
        "outputId": "4ed6a2e5-d6b3-49f1-9390-7999c23c2535",
        "colab": {
          "base_uri": "https://localhost:8080/"
        }
      },
      "outputs": [
        {
          "output_type": "stream",
          "name": "stderr",
          "text": [
            "/usr/local/lib/python3.7/dist-packages/ipykernel_launcher.py:30: DeprecationWarning: `np.float` is a deprecated alias for the builtin `float`. To silence this warning, use `float` by itself. Doing this will not modify any behavior and is safe. If you specifically wanted the numpy scalar type, use `np.float64` here.\n",
            "Deprecated in NumPy 1.20; for more details and guidance: https://numpy.org/devdocs/release/1.20.0-notes.html#deprecations\n"
          ]
        },
        {
          "output_type": "stream",
          "name": "stdout",
          "text": [
            "  epoch    train_loss     dur\n",
            "-------  ------------  ------\n",
            "      1        \u001b[36m9.4686\u001b[0m  7.5832\n",
            "      2        \u001b[36m0.0591\u001b[0m  7.4245\n",
            "      3        \u001b[36m0.0426\u001b[0m  7.4291\n",
            "      4        \u001b[36m0.0324\u001b[0m  7.3994\n",
            "      5        \u001b[36m0.0286\u001b[0m  7.4323\n",
            "      6        \u001b[36m0.0253\u001b[0m  7.3890\n",
            "      7        \u001b[36m0.0230\u001b[0m  7.4061\n",
            "      8        \u001b[36m0.0198\u001b[0m  7.4130\n",
            "      9        \u001b[36m0.0188\u001b[0m  7.4071\n",
            "     10        \u001b[36m0.0168\u001b[0m  7.8699\n"
          ]
        },
        {
          "output_type": "execute_result",
          "data": {
            "text/plain": [
              "Pipeline(steps=[('model',\n",
              "                 <class 'skorch.classifier.NeuralNetBinaryClassifier'>[initialized](\n",
              "  module_=Model_2_network(\n",
              "    (dgcnn_1): DGCNN_network()\n",
              "    (dropout): Dropout(p=0.6, inplace=False)\n",
              "    (dgcnn_2): DGCNN_network()\n",
              "    (fc): Linear(in_features=43594, out_features=1, bias=True)\n",
              "  ),\n",
              "))])"
            ]
          },
          "metadata": {},
          "execution_count": 31
        }
      ],
      "source": [
        "torch.manual_seed(SEED)\n",
        "\n",
        "input_dim_1 = 307\n",
        "input_dim_2 = 100\n",
        "weight_dim_2 = 71\n",
        "weight_dim_4 = 71\n",
        "dropout_rate = 0.6\n",
        "batch_size = 128\n",
        "max_epochs = 10\n",
        "\n",
        "model_2 = NeuralNetBinaryClassifier(\n",
        "    Model_2_network,\n",
        "    module__input_dim_1 = input_dim_1,\n",
        "    module__input_dim_2 = input_dim_2,    \n",
        "    module__weight_dim_2 = weight_dim_2,\n",
        "    module__weight_dim_4 = weight_dim_4,\n",
        "    module__dropout_rate = dropout_rate,\n",
        "    batch_size = batch_size,\n",
        "    max_epochs = max_epochs,\n",
        "    train_split = None,\n",
        "    optimizer = torch.optim.Adam,\n",
        "    iterator_train__shuffle = True,\n",
        "    device = 'cuda'\n",
        ")\n",
        "\n",
        "pipe = Pipeline([\n",
        "    ('model', model_2)\n",
        "])\n",
        "\n",
        "pipe.fit(X_train, y_train.astype(np.float))"
      ]
    },
    {
      "cell_type": "code",
      "execution_count": 32,
      "metadata": {
        "id": "UXKX3otSLWGs",
        "outputId": "7d5fb1a9-87f8-4631-847b-f8354a9c1f98",
        "colab": {
          "base_uri": "https://localhost:8080/"
        }
      },
      "outputs": [
        {
          "output_type": "stream",
          "name": "stdout",
          "text": [
            "Confusion matrix\n",
            "[TN FP]\n",
            "[FN TP]\n",
            "[[    0   348]\n",
            " [    0 12815]]\n",
            "F1-Score: 0.9866\n",
            "ROC AUC: 0.5000\n",
            "Confusion matrix\n",
            "[TN FP]\n",
            "[FN TP]\n",
            "[[  241   107]\n",
            " [   30 12785]]\n",
            "F1-Score: 0.9947\n",
            "ROC AUC: 0.9664\n"
          ]
        }
      ],
      "source": [
        "H_list_model_2.clear()\n",
        "\n",
        "X_test_predictions_3 = pipe.predict_proba(X_test)[:, 1]\n",
        "model_evaluate(y_test, np.ones(len(y_test)))\n",
        "model_evaluate(y_test, X_test_predictions_3)"
      ]
    },
    {
      "cell_type": "code",
      "execution_count": 33,
      "metadata": {
        "id": "Dx90OM56LWGs",
        "outputId": "ae0f8a69-a578-44e1-a6bc-e9161f254f85",
        "colab": {
          "base_uri": "https://localhost:8080/",
          "height": 265
        }
      },
      "outputs": [
        {
          "output_type": "display_data",
          "data": {
            "text/plain": [
              "<Figure size 432x288 with 1 Axes>"
            ],
            "image/png": "[encoded data removed]"
          },
          "metadata": {
            "needs_background": "light"
          }
        }
      ],
      "source": [
        "fpr_3, tpr_3, thresholds_3 = roc_curve(y_test, X_test_predictions_3)\n",
        "pyplot.plot([0, 1], [0, 1], linestyle = '--')\n",
        "pyplot.plot(fpr_3, tpr_3)\n",
        "pyplot.show()"
      ]
    },
    {
      "cell_type": "code",
      "execution_count": null,
      "metadata": {
        "id": "3-Z4xZ9DLWGt",
        "outputId": "b1817567-0869-406b-85fb-d3974329e5fa"
      },
      "outputs": [
        {
          "data": {
            "image/png": "[encoded data removed]",
            "text/plain": [
              "<Figure size 432x288 with 1 Axes>"
            ]
          },
          "metadata": {
            "needs_background": "light"
          },
          "output_type": "display_data"
        }
      ],
      "source": [
        "result = torch.zeros(1, 43594)\n",
        "\n",
        "for i in H_list_model_2:\n",
        "    result = torch.cat([result, i.cpu()], 0)\n",
        "\n",
        "X_result = result.numpy()[1:]\n",
        "\n",
        "\n",
        "X = X_result / np.max(X_result)\n",
        "pca = decomposition.PCA(n_components = 2)\n",
        "X = pca.fit_transform(X)\n",
        "#points = np.arange(X.shape[0])\n",
        "\n",
        "plt.scatter(X[points, 0], X[points, 1], color = ['red' if l == 1 else 'green' for l in y_test[points]])\n",
        "plt.savefig('test_4.pdf')\n",
        "plt.show()"
      ]
    },
    {
      "cell_type": "code",
      "execution_count": 34,
      "metadata": {
        "id": "P_S1XYNaLWGv",
        "outputId": "e3877890-fe2a-498f-cc6f-b5985d67aec9",
        "colab": {
          "base_uri": "https://localhost:8080/",
          "height": 279
        }
      },
      "outputs": [
        {
          "output_type": "display_data",
          "data": {
            "text/plain": [
              "<Figure size 432x288 with 1 Axes>"
            ],
            "image/png": "[encoded data removed]"
          },
          "metadata": {
            "needs_background": "light"
          }
        }
      ],
      "source": [
        "pyplot.plot([0, 1], [0, 1], linestyle = '--')\n",
        "auc_1 = roc_auc_score(y_test, X_test_predictions_1)\n",
        "pyplot.plot(fpr_1, tpr_1, label = f'LSTM, AUC = {auc_1:.4f}')\n",
        "auc_2 = roc_auc_score(y_test, X_test_predictions_2)\n",
        "pyplot.plot(fpr_2, tpr_2, label = f'Model-1, AUC = {auc_2:.4f}')\n",
        "auc_3 = roc_auc_score(y_test, X_test_predictions_3)\n",
        "pyplot.plot(fpr_3, tpr_3, label = f'Model-2, AUC = {auc_3:.4f}')\n",
        "plt.legend(loc = 4)\n",
        "plt.ylabel('True Positive Rate')\n",
        "plt.xlabel('False Positive Rate')\n",
        "plt.savefig('roc_i.pdf')\n",
        "pyplot.show()"
      ]
    }
  ],
  "metadata": {
    "kernelspec": {
      "display_name": "Python 3",
      "language": "python",
      "name": "python3"
    },
    "language_info": {
      "codemirror_mode": {
        "name": "ipython",
        "version": 3
      },
      "file_extension": ".py",
      "mimetype": "text/x-python",
      "name": "python",
      "nbconvert_exporter": "python",
      "pygments_lexer": "ipython3",
      "version": "3.7.4"
    },
    "colab": {
      "name": "Models_Comparison_Original_Imbalanced_Dataset.ipynb",
      "provenance": [],
      "include_colab_link": true
    },
    "accelerator": "GPU"
  },
  "nbformat": 4,
  "nbformat_minor": 0
}