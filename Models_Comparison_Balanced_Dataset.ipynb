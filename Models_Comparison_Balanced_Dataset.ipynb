{
  "cells": [
    {
      "cell_type": "markdown",
      "metadata": {
        "id": "view-in-github",
        "colab_type": "text"
      },
      "source": [
        "<a href=\"https://colab.research.google.com/github/rimbourouphael/NSY107/blob/main/Models_Comparison_Balanced_Dataset.ipynb\" target=\"_parent\"><img src=\"https://colab.research.google.com/assets/colab-badge.svg\" alt=\"Open In Colab\"/></a>"
      ]
    },
    {
      "cell_type": "markdown",
      "metadata": {
        "id": "sdHZDPA73hye"
      },
      "source": [
        "### Models Comparison\n",
        "\n",
        "\n",
        "#### Balanced Dataset"
      ]
    },
    {
      "cell_type": "code",
      "source": [
        "!pip install skorch"
      ],
      "metadata": {
        "id": "PNiaAvQC3p_O",
        "outputId": "e14c3803-9d93-48d0-cd49-5e6cc9008d8c",
        "colab": {
          "base_uri": "https://localhost:8080/"
        }
      },
      "execution_count": null,
      "outputs": [
        {
          "output_type": "stream",
          "name": "stdout",
          "text": [
            "Looking in indexes: https://pypi.org/simple, https://us-python.pkg.dev/colab-wheels/public/simple/\n",
            "Collecting skorch\n",
            "  Downloading skorch-0.11.0-py3-none-any.whl (155 kB)\n",
            "\u001b[K     |████████████████████████████████| 155 kB 5.9 MB/s \n",
            "\u001b[?25hRequirement already satisfied: scipy>=1.1.0 in /usr/local/lib/python3.7/dist-packages (from skorch) (1.4.1)\n",
            "Requirement already satisfied: tqdm>=4.14.0 in /usr/local/lib/python3.7/dist-packages (from skorch) (4.64.0)\n",
            "Requirement already satisfied: numpy>=1.13.3 in /usr/local/lib/python3.7/dist-packages (from skorch) (1.21.6)\n",
            "Requirement already satisfied: tabulate>=0.7.7 in /usr/local/lib/python3.7/dist-packages (from skorch) (0.8.9)\n",
            "Requirement already satisfied: scikit-learn>=0.19.1 in /usr/local/lib/python3.7/dist-packages (from skorch) (1.0.2)\n",
            "Requirement already satisfied: threadpoolctl>=2.0.0 in /usr/local/lib/python3.7/dist-packages (from scikit-learn>=0.19.1->skorch) (3.1.0)\n",
            "Requirement already satisfied: joblib>=0.11 in /usr/local/lib/python3.7/dist-packages (from scikit-learn>=0.19.1->skorch) (1.1.0)\n",
            "Installing collected packages: skorch\n",
            "Successfully installed skorch-0.11.0\n"
          ]
        }
      ]
    },
    {
      "cell_type": "code",
      "execution_count": null,
      "metadata": {
        "id": "Ik5od4sb3hyi"
      },
      "outputs": [],
      "source": [
        "import numpy as np\n",
        "SEED = 137\n",
        "np.random.seed(SEED)\n",
        "\n",
        "import time\n",
        "from collections import Counter\n",
        "\n",
        "import pandas as pd\n",
        "\n",
        "from sklearn.model_selection import train_test_split\n",
        "from sklearn.metrics import accuracy_score, recall_score, confusion_matrix\n",
        "from sklearn.metrics import precision_score, f1_score, roc_auc_score, roc_curve\n",
        "from sklearn import decomposition\n",
        "\n",
        "from imblearn.under_sampling import RandomUnderSampler\n",
        "from imblearn.pipeline import Pipeline\n",
        "\n",
        "import torch\n",
        "torch.manual_seed(SEED)\n",
        "import torch.nn as nn\n",
        "import torch.nn.functional as F\n",
        "\n",
        "from skorch.classifier import NeuralNetBinaryClassifier\n",
        "\n",
        "import matplotlib.pyplot as plt\n",
        "from matplotlib import pyplot"
      ]
    },
    {
      "cell_type": "markdown",
      "metadata": {
        "id": "Z59czGeH3hyk"
      },
      "source": [
        "### Data Preprocessing"
      ]
    },
    {
      "cell_type": "code",
      "execution_count": null,
      "metadata": {
        "id": "uU97CKlD3hyk",
        "outputId": "c630e58e-0dfd-45f2-e895-354a8b995e33",
        "colab": {
          "base_uri": "https://localhost:8080/",
          "height": 236
        }
      },
      "outputs": [
        {
          "output_type": "execute_result",
          "data": {
            "text/plain": [
              "                               hash  t_0  t_1  t_2  t_3  t_4  t_5  t_6  t_7  \\\n",
              "0  071e8c3f8922e186e57548cd4c703a5d  112  274  158  215  274  158  215  298   \n",
              "1  33f8e6d08a6aae939f25a8e0d63dd523   82  208  187  208  172  117  172  117   \n",
              "2  b68abd064e975e1c6d5f25e748663076   16  110  240  117  240  117  240  117   \n",
              "3  72049be7bd30ea61297ea624ae198067   82  208  187  208  172  117  172  117   \n",
              "4  c9b3700a77facf29172f32df6bc77f48   82  240  117  240  117  240  117  240   \n",
              "\n",
              "   t_8  ...  t_91  t_92  t_93  t_94  t_95  t_96  t_97  t_98  t_99  malware  \n",
              "0   76  ...    71   297   135   171   215    35   208    56    71        1  \n",
              "1  172  ...    81   240   117    71   297   135   171   215    35        1  \n",
              "2  240  ...    65   112   123    65   112   123    65   113   112        1  \n",
              "3  172  ...   208   302   208   302   187   208   302   228   302        1  \n",
              "4  117  ...   209   260    40   209   260   141   260   141   260        1  \n",
              "\n",
              "[5 rows x 102 columns]"
            ],
            "text/html": [
              "\n",
              "  <div id=\"df-a6694591-936c-4e4a-8bf6-6b1b637e478b\">\n",
              "    <div class=\"colab-df-container\">\n",
              "      <div>\n",
              "<style scoped>\n",
              "    .dataframe tbody tr th:only-of-type {\n",
              "        vertical-align: middle;\n",
              "    }\n",
              "\n",
              "    .dataframe tbody tr th {\n",
              "        vertical-align: top;\n",
              "    }\n",
              "\n",
              "    .dataframe thead th {\n",
              "        text-align: right;\n",
              "    }\n",
              "</style>\n",
              "<table border=\"1\" class=\"dataframe\">\n",
              "  <thead>\n",
              "    <tr style=\"text-align: right;\">\n",
              "      <th></th>\n",
              "      <th>hash</th>\n",
              "      <th>t_0</th>\n",
              "      <th>t_1</th>\n",
              "      <th>t_2</th>\n",
              "      <th>t_3</th>\n",
              "      <th>t_4</th>\n",
              "      <th>t_5</th>\n",
              "      <th>t_6</th>\n",
              "      <th>t_7</th>\n",
              "      <th>t_8</th>\n",
              "      <th>...</th>\n",
              "      <th>t_91</th>\n",
              "      <th>t_92</th>\n",
              "      <th>t_93</th>\n",
              "      <th>t_94</th>\n",
              "      <th>t_95</th>\n",
              "      <th>t_96</th>\n",
              "      <th>t_97</th>\n",
              "      <th>t_98</th>\n",
              "      <th>t_99</th>\n",
              "      <th>malware</th>\n",
              "    </tr>\n",
              "  </thead>\n",
              "  <tbody>\n",
              "    <tr>\n",
              "      <th>0</th>\n",
              "      <td>071e8c3f8922e186e57548cd4c703a5d</td>\n",
              "      <td>112</td>\n",
              "      <td>274</td>\n",
              "      <td>158</td>\n",
              "      <td>215</td>\n",
              "      <td>274</td>\n",
              "      <td>158</td>\n",
              "      <td>215</td>\n",
              "      <td>298</td>\n",
              "      <td>76</td>\n",
              "      <td>...</td>\n",
              "      <td>71</td>\n",
              "      <td>297</td>\n",
              "      <td>135</td>\n",
              "      <td>171</td>\n",
              "      <td>215</td>\n",
              "      <td>35</td>\n",
              "      <td>208</td>\n",
              "      <td>56</td>\n",
              "      <td>71</td>\n",
              "      <td>1</td>\n",
              "    </tr>\n",
              "    <tr>\n",
              "      <th>1</th>\n",
              "      <td>33f8e6d08a6aae939f25a8e0d63dd523</td>\n",
              "      <td>82</td>\n",
              "      <td>208</td>\n",
              "      <td>187</td>\n",
              "      <td>208</td>\n",
              "      <td>172</td>\n",
              "      <td>117</td>\n",
              "      <td>172</td>\n",
              "      <td>117</td>\n",
              "      <td>172</td>\n",
              "      <td>...</td>\n",
              "      <td>81</td>\n",
              "      <td>240</td>\n",
              "      <td>117</td>\n",
              "      <td>71</td>\n",
              "      <td>297</td>\n",
              "      <td>135</td>\n",
              "      <td>171</td>\n",
              "      <td>215</td>\n",
              "      <td>35</td>\n",
              "      <td>1</td>\n",
              "    </tr>\n",
              "    <tr>\n",
              "      <th>2</th>\n",
              "      <td>b68abd064e975e1c6d5f25e748663076</td>\n",
              "      <td>16</td>\n",
              "      <td>110</td>\n",
              "      <td>240</td>\n",
              "      <td>117</td>\n",
              "      <td>240</td>\n",
              "      <td>117</td>\n",
              "      <td>240</td>\n",
              "      <td>117</td>\n",
              "      <td>240</td>\n",
              "      <td>...</td>\n",
              "      <td>65</td>\n",
              "      <td>112</td>\n",
              "      <td>123</td>\n",
              "      <td>65</td>\n",
              "      <td>112</td>\n",
              "      <td>123</td>\n",
              "      <td>65</td>\n",
              "      <td>113</td>\n",
              "      <td>112</td>\n",
              "      <td>1</td>\n",
              "    </tr>\n",
              "    <tr>\n",
              "      <th>3</th>\n",
              "      <td>72049be7bd30ea61297ea624ae198067</td>\n",
              "      <td>82</td>\n",
              "      <td>208</td>\n",
              "      <td>187</td>\n",
              "      <td>208</td>\n",
              "      <td>172</td>\n",
              "      <td>117</td>\n",
              "      <td>172</td>\n",
              "      <td>117</td>\n",
              "      <td>172</td>\n",
              "      <td>...</td>\n",
              "      <td>208</td>\n",
              "      <td>302</td>\n",
              "      <td>208</td>\n",
              "      <td>302</td>\n",
              "      <td>187</td>\n",
              "      <td>208</td>\n",
              "      <td>302</td>\n",
              "      <td>228</td>\n",
              "      <td>302</td>\n",
              "      <td>1</td>\n",
              "    </tr>\n",
              "    <tr>\n",
              "      <th>4</th>\n",
              "      <td>c9b3700a77facf29172f32df6bc77f48</td>\n",
              "      <td>82</td>\n",
              "      <td>240</td>\n",
              "      <td>117</td>\n",
              "      <td>240</td>\n",
              "      <td>117</td>\n",
              "      <td>240</td>\n",
              "      <td>117</td>\n",
              "      <td>240</td>\n",
              "      <td>117</td>\n",
              "      <td>...</td>\n",
              "      <td>209</td>\n",
              "      <td>260</td>\n",
              "      <td>40</td>\n",
              "      <td>209</td>\n",
              "      <td>260</td>\n",
              "      <td>141</td>\n",
              "      <td>260</td>\n",
              "      <td>141</td>\n",
              "      <td>260</td>\n",
              "      <td>1</td>\n",
              "    </tr>\n",
              "  </tbody>\n",
              "</table>\n",
              "<p>5 rows × 102 columns</p>\n",
              "</div>\n",
              "      <button class=\"colab-df-convert\" onclick=\"convertToInteractive('df-a6694591-936c-4e4a-8bf6-6b1b637e478b')\"\n",
              "              title=\"Convert this dataframe to an interactive table.\"\n",
              "              style=\"display:none;\">\n",
              "        \n",
              "  <svg xmlns=\"http://www.w3.org/2000/svg\" height=\"24px\"viewBox=\"0 0 24 24\"\n",
              "       width=\"24px\">\n",
              "    <path d=\"M0 0h24v24H0V0z\" fill=\"none\"/>\n",
              "    <path d=\"M18.56 5.44l.94 2.06.94-2.06 2.06-.94-2.06-.94-.94-2.06-.94 2.06-2.06.94zm-11 1L8.5 8.5l.94-2.06 2.06-.94-2.06-.94L8.5 2.5l-.94 2.06-2.06.94zm10 10l.94 2.06.94-2.06 2.06-.94-2.06-.94-.94-2.06-.94 2.06-2.06.94z\"/><path d=\"M17.41 7.96l-1.37-1.37c-.4-.4-.92-.59-1.43-.59-.52 0-1.04.2-1.43.59L10.3 9.45l-7.72 7.72c-.78.78-.78 2.05 0 2.83L4 21.41c.39.39.9.59 1.41.59.51 0 1.02-.2 1.41-.59l7.78-7.78 2.81-2.81c.8-.78.8-2.07 0-2.86zM5.41 20L4 18.59l7.72-7.72 1.47 1.35L5.41 20z\"/>\n",
              "  </svg>\n",
              "      </button>\n",
              "      \n",
              "  <style>\n",
              "    .colab-df-container {\n",
              "      display:flex;\n",
              "      flex-wrap:wrap;\n",
              "      gap: 12px;\n",
              "    }\n",
              "\n",
              "    .colab-df-convert {\n",
              "      background-color: #E8F0FE;\n",
              "      border: none;\n",
              "      border-radius: 50%;\n",
              "      cursor: pointer;\n",
              "      display: none;\n",
              "      fill: #1967D2;\n",
              "      height: 32px;\n",
              "      padding: 0 0 0 0;\n",
              "      width: 32px;\n",
              "    }\n",
              "\n",
              "    .colab-df-convert:hover {\n",
              "      background-color: #E2EBFA;\n",
              "      box-shadow: 0px 1px 2px rgba(60, 64, 67, 0.3), 0px 1px 3px 1px rgba(60, 64, 67, 0.15);\n",
              "      fill: #174EA6;\n",
              "    }\n",
              "\n",
              "    [theme=dark] .colab-df-convert {\n",
              "      background-color: #3B4455;\n",
              "      fill: #D2E3FC;\n",
              "    }\n",
              "\n",
              "    [theme=dark] .colab-df-convert:hover {\n",
              "      background-color: #434B5C;\n",
              "      box-shadow: 0px 1px 3px 1px rgba(0, 0, 0, 0.15);\n",
              "      filter: drop-shadow(0px 1px 2px rgba(0, 0, 0, 0.3));\n",
              "      fill: #FFFFFF;\n",
              "    }\n",
              "  </style>\n",
              "\n",
              "      <script>\n",
              "        const buttonEl =\n",
              "          document.querySelector('#df-a6694591-936c-4e4a-8bf6-6b1b637e478b button.colab-df-convert');\n",
              "        buttonEl.style.display =\n",
              "          google.colab.kernel.accessAllowed ? 'block' : 'none';\n",
              "\n",
              "        async function convertToInteractive(key) {\n",
              "          const element = document.querySelector('#df-a6694591-936c-4e4a-8bf6-6b1b637e478b');\n",
              "          const dataTable =\n",
              "            await google.colab.kernel.invokeFunction('convertToInteractive',\n",
              "                                                     [key], {});\n",
              "          if (!dataTable) return;\n",
              "\n",
              "          const docLinkHtml = 'Like what you see? Visit the ' +\n",
              "            '<a target=\"_blank\" href=https://colab.research.google.com/notebooks/data_table.ipynb>data table notebook</a>'\n",
              "            + ' to learn more about interactive tables.';\n",
              "          element.innerHTML = '';\n",
              "          dataTable['output_type'] = 'display_data';\n",
              "          await google.colab.output.renderOutput(dataTable, element);\n",
              "          const docLink = document.createElement('div');\n",
              "          docLink.innerHTML = docLinkHtml;\n",
              "          element.appendChild(docLink);\n",
              "        }\n",
              "      </script>\n",
              "    </div>\n",
              "  </div>\n",
              "  "
            ]
          },
          "metadata": {},
          "execution_count": 3
        }
      ],
      "source": [
        "df = pd.read_csv('https://raw.githubusercontent.com/rimbourouphael/NSY107/main/dynamic_api_call_sequence_per_malware_100_0_306.csv')\n",
        "df.head()"
      ]
    },
    {
      "cell_type": "code",
      "execution_count": null,
      "metadata": {
        "id": "OUsBsj2q3hyl",
        "outputId": "90e5f392-84cf-43ce-9f48-8acc30b91f7f",
        "colab": {
          "base_uri": "https://localhost:8080/"
        }
      },
      "outputs": [
        {
          "output_type": "stream",
          "name": "stdout",
          "text": [
            "<class 'pandas.core.frame.DataFrame'>\n",
            "RangeIndex: 43876 entries, 0 to 43875\n",
            "Columns: 102 entries, hash to malware\n",
            "dtypes: int64(101), object(1)\n",
            "memory usage: 34.1+ MB\n"
          ]
        }
      ],
      "source": [
        "df.info()"
      ]
    },
    {
      "cell_type": "code",
      "execution_count": null,
      "metadata": {
        "id": "j-En_nfN3hym",
        "outputId": "65a796c3-183e-4909-a096-929c2778575e",
        "colab": {
          "base_uri": "https://localhost:8080/"
        }
      },
      "outputs": [
        {
          "output_type": "stream",
          "name": "stdout",
          "text": [
            "(43876, 100)\n",
            "(43876,)\n"
          ]
        }
      ],
      "source": [
        "X = df.drop(['hash', 'malware'], axis = 1).values.astype(int)\n",
        "y = df['malware'].values.astype(int)\n",
        "print(X.shape)\n",
        "print(y.shape)"
      ]
    },
    {
      "cell_type": "code",
      "execution_count": null,
      "metadata": {
        "id": "hpymSTxs3hym",
        "outputId": "117b73c7-ae12-4eb1-e893-49ec1d95cc9e",
        "colab": {
          "base_uri": "https://localhost:8080/"
        }
      },
      "outputs": [
        {
          "output_type": "stream",
          "name": "stdout",
          "text": [
            "0\n",
            "306\n"
          ]
        }
      ],
      "source": [
        "print(X.min())\n",
        "print(X.max())"
      ]
    },
    {
      "cell_type": "code",
      "execution_count": null,
      "metadata": {
        "id": "irdbyeo33hyn"
      },
      "outputs": [],
      "source": [
        "def check_imbalance(dataset):\n",
        "    count = sorted(Counter(dataset).items())\n",
        "    print(count)\n",
        "    print(count[1][1] / count[0][1])\n",
        "    return"
      ]
    },
    {
      "cell_type": "code",
      "execution_count": null,
      "metadata": {
        "id": "xHkMR8UN3hyo",
        "outputId": "03ccbd52-5938-43d0-dc31-83d3cb93e74a",
        "colab": {
          "base_uri": "https://localhost:8080/"
        }
      },
      "outputs": [
        {
          "output_type": "stream",
          "name": "stdout",
          "text": [
            "[(0, 1079), (1, 42797)]\n",
            "39.66357738646895\n"
          ]
        }
      ],
      "source": [
        "check_imbalance(y)"
      ]
    },
    {
      "cell_type": "code",
      "execution_count": null,
      "metadata": {
        "id": "m2qR4nv53hyo",
        "outputId": "180fff75-c41d-4640-e805-879b13ea7949",
        "colab": {
          "base_uri": "https://localhost:8080/"
        }
      },
      "outputs": [
        {
          "output_type": "stream",
          "name": "stdout",
          "text": [
            "[(0, 1079), (1, 1079)]\n",
            "1.0\n"
          ]
        }
      ],
      "source": [
        "random_undersampler = RandomUnderSampler(random_state = SEED)\n",
        "\n",
        "X, y = random_undersampler.fit_resample(X, y)\n",
        "\n",
        "check_imbalance(y)"
      ]
    },
    {
      "cell_type": "code",
      "execution_count": null,
      "metadata": {
        "id": "_NS1nrP73hyp"
      },
      "outputs": [],
      "source": [
        "X_train, X_test, y_train, y_test = train_test_split(X, y, test_size = 0.3, random_state = SEED)"
      ]
    },
    {
      "cell_type": "code",
      "execution_count": null,
      "metadata": {
        "id": "qyrEQ4iq3hyq",
        "outputId": "2b4fb044-45aa-4eb2-c058-6af0c414cd26",
        "colab": {
          "base_uri": "https://localhost:8080/"
        }
      },
      "outputs": [
        {
          "output_type": "stream",
          "name": "stdout",
          "text": [
            "[(0, 738), (1, 772)]\n",
            "1.046070460704607\n",
            "[(0, 341), (1, 307)]\n",
            "0.9002932551319648\n"
          ]
        }
      ],
      "source": [
        "check_imbalance(y_train)\n",
        "check_imbalance(y_test)\n",
        "\n",
        "del df, X, y"
      ]
    },
    {
      "cell_type": "markdown",
      "metadata": {
        "id": "vJCM6vVb3hyq"
      },
      "source": [
        "### Models"
      ]
    },
    {
      "cell_type": "markdown",
      "metadata": {
        "id": "JEJQorAL3hyr"
      },
      "source": [
        "#### DGCNN"
      ]
    },
    {
      "cell_type": "code",
      "execution_count": null,
      "metadata": {
        "id": "T_nX6vFB3hyr"
      },
      "outputs": [],
      "source": [
        "def norn_adj(X, input_dim_1):\n",
        "    \n",
        "    A = torch.zeros((X.size(0), input_dim_1, input_dim_1), dtype = torch.float).cuda()\n",
        "        \n",
        "    A_view = A.view(A.size(0), -1)\n",
        "    x_size = X.size(-1)\n",
        "    indices = X.narrow(-1, 0, x_size - 1) * A.stride(1) * A.stride(2) + X.narrow(-1, 1, x_size - 1) * A.stride(2)\n",
        "    A_view.scatter_(1, indices, 1)\n",
        "        \n",
        "    A_hat = A + torch.eye(input_dim_1, dtype = torch.float).cuda()\n",
        "    D_hat = A_hat.sum(dim = 1).pow(-1.0).diag_embed()\n",
        "    \n",
        "    return A_hat, D_hat\n",
        "\n",
        "def to_one_hot(X, input_dim_1):\n",
        "    \n",
        "    X = F.one_hot(X, num_classes = input_dim_1).float()    \n",
        "    X = X.permute(0, 2, 1)\n",
        "    \n",
        "    return X\n",
        "\n",
        "class DGCNN_network(nn.Module):\n",
        "    \n",
        "    def __init__(self, weight_dim_1, weight_dim_2):\n",
        "\n",
        "        super(DGCNN_network, self).__init__()\n",
        "        self.weight_dim_1 = weight_dim_1\n",
        "        self.weight_dim_2 = weight_dim_2        \n",
        "        self.weights = nn.Parameter(torch.rand((self.weight_dim_1, weight_dim_2), dtype = torch.float, requires_grad = True))\n",
        "        \n",
        "    def forward(self, A_hat, D_hat, X):\n",
        "        return D_hat.matmul(A_hat).matmul(X).matmul(self.weights)"
      ]
    },
    {
      "cell_type": "markdown",
      "metadata": {
        "id": "RMUfXe9p3hys"
      },
      "source": [
        "#### Model-1"
      ]
    },
    {
      "cell_type": "code",
      "execution_count": null,
      "metadata": {
        "id": "t1x-ofZH3hys"
      },
      "outputs": [],
      "source": [
        "H_list_model_1 = []\n",
        "\n",
        "class Model_1_network(nn.Module):\n",
        "    \n",
        "    def __init__(self, input_dim_1, input_dim_2, weight_dim_2, dropout_rate):\n",
        "        \n",
        "        super(Model_1_network, self).__init__()\n",
        "        \n",
        "        self.input_dim_1 = input_dim_1\n",
        "        self.input_dim_2 = input_dim_2\n",
        "        self.weight_dim_1 = input_dim_2\n",
        "        self.weight_dim_2 = weight_dim_2\n",
        "        self.dropout_rate = dropout_rate\n",
        "        \n",
        "        self.dgcnn = DGCNN_network(self.weight_dim_1, self.weight_dim_2)\n",
        "        self.dropout = nn.Dropout(p = self.dropout_rate)\n",
        "        self.fc = nn.Linear(self.input_dim_1 * self.weight_dim_2, 1)\n",
        "        \n",
        "    def forward(self, X):\n",
        "        \n",
        "        A_hat, D_hat = norn_adj(X, input_dim_1)\n",
        "        X = to_one_hot(X, input_dim_1)\n",
        "\n",
        "        H = self.dgcnn(A_hat, D_hat, X)\n",
        "        H = self.dropout(H)\n",
        "        H = torch.relu(H)\n",
        "        H = H.view(H.size(0), -1)\n",
        "        \n",
        "        # Visualization\n",
        "        if not self.training:\n",
        "            H_list_model_1.append(H.cpu())        \n",
        "        \n",
        "        H = self.fc(H)\n",
        "                \n",
        "        return H.squeeze()"
      ]
    },
    {
      "cell_type": "markdown",
      "metadata": {
        "id": "FbCDbILg3hys"
      },
      "source": [
        "#### Model-2"
      ]
    },
    {
      "cell_type": "code",
      "execution_count": null,
      "metadata": {
        "id": "8cdzbizz3hyt"
      },
      "outputs": [],
      "source": [
        "H_list_model_2 = []\n",
        "\n",
        "class Model_2_network(nn.Module):\n",
        "    \n",
        "    def __init__(self, input_dim_1, input_dim_2, weight_dim_2, weight_dim_4, dropout_rate):\n",
        "    \n",
        "        super(Model_2_network, self).__init__()\n",
        "        \n",
        "        self.input_dim_1 = input_dim_1\n",
        "        self.input_dim_2 = input_dim_2\n",
        "        self.weight_dim_1 = input_dim_2\n",
        "        self.weight_dim_2 = weight_dim_2\n",
        "        self.weight_dim_3 = weight_dim_2\n",
        "        self.weight_dim_4 = weight_dim_4\n",
        "        self.dropout_rate = dropout_rate\n",
        "        \n",
        "        self.dgcnn_1 = DGCNN_network(self.weight_dim_1, self.weight_dim_2)\n",
        "        self.dropout = nn.Dropout(p = self.dropout_rate)\n",
        "        self.dgcnn_2 = DGCNN_network(self.weight_dim_3, self.weight_dim_4)\n",
        "        self.fc = nn.Linear(self.input_dim_1 * (self.weight_dim_2 + self.weight_dim_4), 1)\n",
        "        \n",
        "    def forward(self, X):\n",
        "        \n",
        "        A_hat, D_hat = norn_adj(X, input_dim_1)\n",
        "        X = to_one_hot(X, input_dim_1)        \n",
        "\n",
        "        H_1 = self.dgcnn_1(A_hat, D_hat, X)\n",
        "        H_1 = self.dropout(H_1)\n",
        "        H_1 = torch.relu(H_1)\n",
        "        H_2 = self.dgcnn_2(A_hat, D_hat, H_1)\n",
        "        H_2 = self.dropout(H_2)\n",
        "        H_2 = torch.relu(H_2)\n",
        "        H_2 = torch.cat([H_1, H_2], 2)\n",
        "        H_2 = H_2.view(H_2.size(0), -1)\n",
        "\n",
        "        # Visualization\n",
        "        if not self.training:\n",
        "            H_list_model_2.append(H_2)   \n",
        "        \n",
        "        H_2 = self.fc(H_2)\n",
        "                \n",
        "        return H_2.squeeze()"
      ]
    },
    {
      "cell_type": "markdown",
      "metadata": {
        "id": "b0o696eQ3hyu"
      },
      "source": [
        "#### LSTM"
      ]
    },
    {
      "cell_type": "code",
      "execution_count": null,
      "metadata": {
        "id": "6_gQw3x-3hyv"
      },
      "outputs": [],
      "source": [
        "H_list_lstm = []\n",
        "\n",
        "class LSTM_network(nn.Module):\n",
        "    \n",
        "    def __init__(self, input_dim, hidden_dim, dropout_rate):\n",
        "        \n",
        "        super(LSTM_network, self).__init__()\n",
        "        \n",
        "        self.input_dim = input_dim\n",
        "        self.hidden_dim = hidden_dim\n",
        "        self.dropout_rate = dropout_rate\n",
        "        \n",
        "        self.lstm = nn.LSTM(self.input_dim, self.hidden_dim, batch_first = True)\n",
        "        self.dropout = nn.Dropout(p = self.dropout_rate)\n",
        "        self.fc = nn.Linear(self.hidden_dim, 1)\n",
        "        \n",
        "    def forward(self, X):\n",
        "        \n",
        "        X = F.one_hot(X, num_classes = self.input_dim).float().cuda()\n",
        "        \n",
        "        # Hidden layer shape: (num_layers, batch_size, hidden_dim)\n",
        "        hidden_0 = (torch.zeros(1, X.size(0), self.hidden_dim).float().cuda(),\n",
        "                    torch.zeros(1, X.size(0), self.hidden_dim).float().cuda())\n",
        "        \n",
        "        # Input/Output shape: (batch_size, seq_len, input_dim)\n",
        "        _, self.hidden = self.lstm(X, hidden_0)\n",
        "                \n",
        "        H = self.hidden[0].squeeze()\n",
        "        H = self.dropout(H)\n",
        "        \n",
        "        # Visualization\n",
        "        if not self.training:\n",
        "            H_list_lstm.append(H)           \n",
        "        \n",
        "        H = self.fc(H)\n",
        "                \n",
        "        return H.squeeze()"
      ]
    },
    {
      "cell_type": "markdown",
      "metadata": {
        "id": "chtHwbax3hyv"
      },
      "source": [
        "### Evaluation"
      ]
    },
    {
      "cell_type": "code",
      "execution_count": null,
      "metadata": {
        "id": "3YcA-5js3hyv"
      },
      "outputs": [],
      "source": [
        "def model_evaluate(y, pred):\n",
        "    print('Confusion matrix\\n[TN FP]\\n[FN TP]')\n",
        "    print(confusion_matrix(y >= 0.5, pred >= 0.5))\n",
        "    print(f'Accuracy: {accuracy_score(y >= 0.5, pred >= 0.5):.4f}')\n",
        "    print(f'Precision: {precision_score(y >= 0.5, pred >= 0.5):.4f}')\n",
        "    print(f'Recall: {recall_score(y >= 0.5, pred >= 0.5):.4f}')\n",
        "    print(f'F1-Score: {f1_score(y >= 0.5, pred >= 0.5):.4f}')\n",
        "    print(f'ROC AUC: {roc_auc_score(y, pred):.4f}')\n",
        "    return"
      ]
    },
    {
      "cell_type": "markdown",
      "metadata": {
        "id": "6TGPMPVH3hyw"
      },
      "source": [
        "#### LSTM"
      ]
    },
    {
      "cell_type": "code",
      "execution_count": null,
      "metadata": {
        "id": "-LpjrT583hyw",
        "outputId": "9190a3f1-bf5b-4843-d1d4-38acba46bdf6",
        "colab": {
          "base_uri": "https://localhost:8080/"
        }
      },
      "outputs": [
        {
          "output_type": "stream",
          "name": "stderr",
          "text": [
            "/usr/local/lib/python3.7/dist-packages/ipykernel_launcher.py:26: DeprecationWarning: `np.float` is a deprecated alias for the builtin `float`. To silence this warning, use `float` by itself. Doing this will not modify any behavior and is safe. If you specifically wanted the numpy scalar type, use `np.float64` here.\n",
            "Deprecated in NumPy 1.20; for more details and guidance: https://numpy.org/devdocs/release/1.20.0-notes.html#deprecations\n"
          ]
        },
        {
          "output_type": "stream",
          "name": "stdout",
          "text": [
            "  epoch    train_loss     dur\n",
            "-------  ------------  ------\n",
            "      1        \u001b[36m0.6375\u001b[0m  0.2912\n",
            "      2        \u001b[36m0.4992\u001b[0m  0.2442\n",
            "      3        \u001b[36m0.4429\u001b[0m  0.2267\n",
            "      4        \u001b[36m0.3841\u001b[0m  0.2281\n",
            "      5        \u001b[36m0.3472\u001b[0m  0.2365\n",
            "      6        \u001b[36m0.3430\u001b[0m  0.2313\n",
            "      7        \u001b[36m0.3276\u001b[0m  0.2332\n",
            "      8        \u001b[36m0.2930\u001b[0m  0.2279\n",
            "      9        \u001b[36m0.2713\u001b[0m  0.2228\n",
            "     10        \u001b[36m0.2465\u001b[0m  0.2340\n",
            "     11        0.2506  0.2316\n",
            "     12        \u001b[36m0.2339\u001b[0m  0.2290\n",
            "     13        \u001b[36m0.2135\u001b[0m  0.2372\n",
            "     14        \u001b[36m0.2005\u001b[0m  0.2292\n",
            "     15        0.2538  0.2338\n",
            "     16        0.2314  0.2196\n",
            "     17        \u001b[36m0.1983\u001b[0m  0.2290\n",
            "     18        \u001b[36m0.1773\u001b[0m  0.2233\n",
            "     19        \u001b[36m0.1519\u001b[0m  0.2263\n",
            "     20        \u001b[36m0.1398\u001b[0m  0.2296\n",
            "     21        \u001b[36m0.1226\u001b[0m  0.2268\n",
            "     22        0.1997  0.2310\n",
            "     23        0.2163  0.2327\n",
            "     24        0.1494  0.2278\n",
            "     25        \u001b[36m0.1211\u001b[0m  0.2254\n",
            "     26        \u001b[36m0.1205\u001b[0m  0.2300\n",
            "     27        \u001b[36m0.0936\u001b[0m  0.2237\n",
            "     28        0.1026  0.2242\n",
            "     29        0.1076  0.2264\n",
            "     30        0.1030  0.2225\n"
          ]
        },
        {
          "output_type": "execute_result",
          "data": {
            "text/plain": [
              "Pipeline(steps=[('model',\n",
              "                 <class 'skorch.classifier.NeuralNetBinaryClassifier'>[initialized](\n",
              "  module_=LSTM_network(\n",
              "    (lstm): LSTM(307, 10, batch_first=True)\n",
              "    (dropout): Dropout(p=0.4, inplace=False)\n",
              "    (fc): Linear(in_features=10, out_features=1, bias=True)\n",
              "  ),\n",
              "))])"
            ]
          },
          "metadata": {},
          "execution_count": 38
        }
      ],
      "source": [
        "torch.manual_seed(SEED)\n",
        "\n",
        "input_dim = 307\n",
        "hidden_dim = 10\n",
        "dropout_rate = 0.4\n",
        "batch_size = 32\n",
        "max_epochs = 30\n",
        "\n",
        "LSTM = NeuralNetBinaryClassifier(\n",
        "    LSTM_network,\n",
        "    module__input_dim = input_dim,\n",
        "    module__hidden_dim = hidden_dim,\n",
        "    module__dropout_rate = dropout_rate,\n",
        "    batch_size = batch_size,\n",
        "    max_epochs = max_epochs,\n",
        "    train_split = None,\n",
        "    optimizer = torch.optim.Adam,\n",
        "    iterator_train__shuffle = True,\n",
        "    device = 'cuda'\n",
        ")\n",
        "\n",
        "pipe = Pipeline([\n",
        "    ('model', LSTM)\n",
        "])\n",
        "\n",
        "pipe.fit(X_train, y_train.astype(np.float))"
      ]
    },
    {
      "cell_type": "code",
      "execution_count": null,
      "metadata": {
        "id": "z0duS5pJ3hyw",
        "outputId": "cdabcd88-eba9-4efb-ef62-4021c6fb63c4",
        "colab": {
          "base_uri": "https://localhost:8080/"
        }
      },
      "outputs": [
        {
          "output_type": "stream",
          "name": "stdout",
          "text": [
            "Confusion matrix\n",
            "[TN FP]\n",
            "[FN TP]\n",
            "[[  0 341]\n",
            " [  0 307]]\n",
            "Accuracy: 0.4738\n",
            "Precision: 0.4738\n",
            "Recall: 1.0000\n",
            "F1-Score: 0.6429\n",
            "ROC AUC: 0.5000\n",
            "Confusion matrix\n",
            "[TN FP]\n",
            "[FN TP]\n",
            "[[306  35]\n",
            " [ 44 263]]\n",
            "Accuracy: 0.8781\n",
            "Precision: 0.8826\n",
            "Recall: 0.8567\n",
            "F1-Score: 0.8694\n",
            "ROC AUC: 0.9449\n"
          ]
        }
      ],
      "source": [
        "H_list_lstm.clear()\n",
        "\n",
        "X_test_predictions_1 = pipe.predict_proba(X_test)\n",
        "model_evaluate(y_test, np.ones(len(y_test)))\n",
        "\n",
        "X_test_predictions_11 = pipe.predict_proba(X_test)[:, 1]\n",
        "model_evaluate(y_test, X_test_predictions_11)"
      ]
    },
    {
      "cell_type": "code",
      "execution_count": null,
      "metadata": {
        "id": "n-MM5PHS3hyw",
        "outputId": "83908d3c-ac32-41f6-d475-99488e3bba14",
        "colab": {
          "base_uri": "https://localhost:8080/",
          "height": 265
        }
      },
      "outputs": [
        {
          "output_type": "display_data",
          "data": {
            "text/plain": [
              "<Figure size 432x288 with 1 Axes>"
            ],
            "image/png": "[encoded data removed]"
          },
          "metadata": {
            "needs_background": "light"
          }
        }
      ],
      "source": [
        "fpr_1, tpr_1, thresholds_1 = roc_curve(y_test, X_test_predictions_11)\n",
        "pyplot.plot([0, 1], [0, 1], linestyle='--')\n",
        "pyplot.plot(fpr_1, tpr_1)\n",
        "pyplot.show()"
      ]
    },
    {
      "cell_type": "code",
      "execution_count": null,
      "metadata": {
        "id": "JrFtIGuy3hyz",
        "outputId": "b382af76-ebc9-4b45-876e-8e5f824fce2b",
        "colab": {
          "base_uri": "https://localhost:8080/",
          "height": 513
        }
      },
      "outputs": [
        {
          "output_type": "display_data",
          "data": {
            "text/plain": [
              "<Figure size 432x288 with 1 Axes>"
            ],
            "image/png": "[encoded data removed]"
          },
          "metadata": {
            "needs_background": "light"
          }
        },
        {
          "output_type": "display_data",
          "data": {
            "text/plain": [
              "<Figure size 432x288 with 1 Axes>"
            ],
            "image/png": "[encoded data removed]"
          },
          "metadata": {
            "needs_background": "light"
          }
        }
      ],
      "source": [
        "# visualize_pca(X_test, y_test)\n",
        "\n",
        "X = X_test / np.max(X_test)\n",
        "pca = decomposition.PCA(n_components = 2)\n",
        "X = pca.fit_transform(X)\n",
        "points = np.arange(X.shape[0])\n",
        "plt.scatter(X[points, 0], X[points, 1], color = ['red' if l == 1 else 'green' for l in y_test[points]])\n",
        "plt.savefig('test_1.pdf')\n",
        "plt.show()\n",
        "\n",
        "result = torch.zeros(1, 10)\n",
        "\n",
        "for i in H_list_lstm:\n",
        "    result = torch.cat([result, i.cpu()], 0)\n",
        "\n",
        "X_result = result.numpy()[1:]\n",
        "\n",
        "X = X_result / np.max(X_result)\n",
        "pca = decomposition.PCA(n_components = 2)\n",
        "X = pca.fit_transform(X)\n",
        "plt.scatter(X[points, 0], X[points, 1], color = ['red' if l == 1 else 'green' for l in y_test[points]])\n",
        "plt.savefig('test_2.pdf')\n",
        "plt.show()"
      ]
    },
    {
      "cell_type": "markdown",
      "metadata": {
        "id": "NXY-getB3hyz"
      },
      "source": [
        "#### Model-1"
      ]
    },
    {
      "cell_type": "code",
      "execution_count": null,
      "metadata": {
        "id": "WQ6_iwNL3hyz",
        "outputId": "e1024786-542a-4af0-9317-ec25e0464d26",
        "colab": {
          "base_uri": "https://localhost:8080/"
        }
      },
      "outputs": [
        {
          "output_type": "stream",
          "name": "stderr",
          "text": [
            "/usr/local/lib/python3.7/dist-packages/ipykernel_launcher.py:28: DeprecationWarning: `np.float` is a deprecated alias for the builtin `float`. To silence this warning, use `float` by itself. Doing this will not modify any behavior and is safe. If you specifically wanted the numpy scalar type, use `np.float64` here.\n",
            "Deprecated in NumPy 1.20; for more details and guidance: https://numpy.org/devdocs/release/1.20.0-notes.html#deprecations\n"
          ]
        },
        {
          "output_type": "stream",
          "name": "stdout",
          "text": [
            "  epoch    train_loss     dur\n",
            "-------  ------------  ------\n",
            "      1        \u001b[36m1.2049\u001b[0m  0.3445\n",
            "      2        \u001b[36m0.6514\u001b[0m  0.3397\n",
            "      3        \u001b[36m0.3855\u001b[0m  0.3364\n",
            "      4        \u001b[36m0.2508\u001b[0m  0.3612\n",
            "      5        \u001b[36m0.2185\u001b[0m  0.3598\n",
            "      6        \u001b[36m0.1572\u001b[0m  0.3594\n",
            "      7        \u001b[36m0.1389\u001b[0m  0.3486\n",
            "      8        \u001b[36m0.1280\u001b[0m  0.3505\n",
            "      9        \u001b[36m0.1245\u001b[0m  0.3422\n",
            "     10        \u001b[36m0.0968\u001b[0m  0.3554\n",
            "     11        \u001b[36m0.0952\u001b[0m  0.3551\n",
            "     12        \u001b[36m0.0943\u001b[0m  0.3468\n",
            "     13        \u001b[36m0.0772\u001b[0m  0.3500\n",
            "     14        0.0786  0.3561\n",
            "     15        \u001b[36m0.0756\u001b[0m  0.3553\n",
            "     16        \u001b[36m0.0569\u001b[0m  0.3496\n",
            "     17        0.0740  0.3563\n",
            "     18        0.0580  0.3501\n",
            "     19        0.0676  0.3522\n",
            "     20        \u001b[36m0.0506\u001b[0m  0.3604\n",
            "     21        0.0506  0.3545\n",
            "     22        0.0567  0.3542\n",
            "     23        \u001b[36m0.0477\u001b[0m  0.3639\n",
            "     24        \u001b[36m0.0399\u001b[0m  0.3695\n",
            "     25        0.0499  0.3712\n",
            "     26        0.0465  0.3679\n",
            "     27        \u001b[36m0.0344\u001b[0m  0.3733\n",
            "     28        0.0384  0.3815\n",
            "     29        0.0403  0.3819\n",
            "     30        0.0421  0.3742\n"
          ]
        },
        {
          "output_type": "execute_result",
          "data": {
            "text/plain": [
              "Pipeline(steps=[('model',\n",
              "                 <class 'skorch.classifier.NeuralNetBinaryClassifier'>[initialized](\n",
              "  module_=Model_1_network(\n",
              "    (dgcnn): DGCNN_network()\n",
              "    (dropout): Dropout(p=0.6, inplace=False)\n",
              "    (fc): Linear(in_features=9517, out_features=1, bias=True)\n",
              "  ),\n",
              "))])"
            ]
          },
          "metadata": {},
          "execution_count": 42
        }
      ],
      "source": [
        "torch.manual_seed(SEED)\n",
        "\n",
        "input_dim_1 = 307\n",
        "input_dim_2 = 100\n",
        "weight_dim_2 = 31\n",
        "dropout_rate = 0.6\n",
        "batch_size = 32\n",
        "max_epochs = 30\n",
        "\n",
        "model_1 = NeuralNetBinaryClassifier(\n",
        "    Model_1_network,\n",
        "    module__input_dim_1 = input_dim_1,\n",
        "    module__input_dim_2 = input_dim_2,    \n",
        "    module__weight_dim_2 = weight_dim_2,\n",
        "    module__dropout_rate = dropout_rate,\n",
        "    batch_size = batch_size,\n",
        "    max_epochs = max_epochs,\n",
        "    train_split = None,\n",
        "    optimizer = torch.optim.Adam,\n",
        "    iterator_train__shuffle = True,\n",
        "    device = 'cuda'\n",
        ")\n",
        "\n",
        "pipe = Pipeline([\n",
        "    ('model', model_1)\n",
        "])\n",
        "\n",
        "pipe.fit(X_train, y_train.astype(np.float))"
      ]
    },
    {
      "cell_type": "code",
      "execution_count": null,
      "metadata": {
        "id": "QH_jWfqn3hyz",
        "outputId": "7b0689e0-8c72-4eed-90d7-b7c0f4d9132a",
        "colab": {
          "base_uri": "https://localhost:8080/"
        }
      },
      "outputs": [
        {
          "output_type": "stream",
          "name": "stdout",
          "text": [
            "Confusion matrix\n",
            "[TN FP]\n",
            "[FN TP]\n",
            "[[  0 341]\n",
            " [  0 307]]\n",
            "Accuracy: 0.4738\n",
            "Precision: 0.4738\n",
            "Recall: 1.0000\n",
            "F1-Score: 0.6429\n",
            "ROC AUC: 0.5000\n",
            "Confusion matrix\n",
            "[TN FP]\n",
            "[FN TP]\n",
            "[[321  20]\n",
            " [ 30 277]]\n",
            "Accuracy: 0.9228\n",
            "Precision: 0.9327\n",
            "Recall: 0.9023\n",
            "F1-Score: 0.9172\n",
            "ROC AUC: 0.9730\n"
          ]
        }
      ],
      "source": [
        "H_list_model_1.clear()\n",
        "\n",
        "X_test_predictions_2 = pipe.predict_proba(X_test)\n",
        "model_evaluate(y_test, np.ones(len(y_test)))\n",
        "X_test_predictions_22 = pipe.predict_proba(X_test)[:, 1]\n",
        "model_evaluate(y_test, X_test_predictions_22)"
      ]
    },
    {
      "cell_type": "code",
      "execution_count": null,
      "metadata": {
        "id": "NB_lMpGv3hyz",
        "outputId": "b21e515b-42e8-4039-c9b5-502e0f550b4d",
        "colab": {
          "base_uri": "https://localhost:8080/",
          "height": 265
        }
      },
      "outputs": [
        {
          "output_type": "display_data",
          "data": {
            "text/plain": [
              "<Figure size 432x288 with 1 Axes>"
            ],
            "image/png": "[encoded data removed]"
          },
          "metadata": {
            "needs_background": "light"
          }
        }
      ],
      "source": [
        "fpr_2, tpr_2, thresholds_2 = roc_curve(y_test, X_test_predictions_22)\n",
        "pyplot.plot([0, 1], [0, 1], linestyle='--')\n",
        "pyplot.plot(fpr_2, tpr_2)\n",
        "pyplot.show()"
      ]
    },
    {
      "cell_type": "code",
      "execution_count": null,
      "metadata": {
        "id": "BRqbg1843hy0",
        "outputId": "4ae93de6-cf73-4cca-d9c0-9bf110a687f3",
        "colab": {
          "base_uri": "https://localhost:8080/",
          "height": 265
        }
      },
      "outputs": [
        {
          "output_type": "display_data",
          "data": {
            "text/plain": [
              "<Figure size 432x288 with 1 Axes>"
            ],
            "image/png": "[encoded data removed]"
          },
          "metadata": {
            "needs_background": "light"
          }
        }
      ],
      "source": [
        "result = torch.zeros(1, 9517)\n",
        "\n",
        "for i in H_list_model_1:\n",
        "    result = torch.cat([result, i.cpu()], 0)\n",
        "\n",
        "X_result = result.numpy()[1:]\n",
        "\n",
        "X = X_result / np.max(X_result)\n",
        "pca = decomposition.PCA(n_components = 2)\n",
        "X = pca.fit_transform(X)\n",
        "\n",
        "plt.scatter(X[points, 0], X[points, 1], color = ['red' if l == 1 else 'green' for l in y_test[points]])\n",
        "plt.savefig('test_3.pdf')\n",
        "plt.show()"
      ]
    },
    {
      "cell_type": "markdown",
      "metadata": {
        "id": "RW6gVC403hy0"
      },
      "source": [
        "#### Model-2"
      ]
    },
    {
      "cell_type": "code",
      "execution_count": null,
      "metadata": {
        "id": "2fCaTA543hy0",
        "outputId": "c6f052bb-dcc9-462d-a45e-a4f07a7f7d4f",
        "colab": {
          "base_uri": "https://localhost:8080/"
        }
      },
      "outputs": [
        {
          "output_type": "stream",
          "name": "stderr",
          "text": [
            "/usr/local/lib/python3.7/dist-packages/ipykernel_launcher.py:30: DeprecationWarning: `np.float` is a deprecated alias for the builtin `float`. To silence this warning, use `float` by itself. Doing this will not modify any behavior and is safe. If you specifically wanted the numpy scalar type, use `np.float64` here.\n",
            "Deprecated in NumPy 1.20; for more details and guidance: https://numpy.org/devdocs/release/1.20.0-notes.html#deprecations\n"
          ]
        },
        {
          "output_type": "stream",
          "name": "stdout",
          "text": [
            "  epoch    train_loss     dur\n",
            "-------  ------------  ------\n",
            "      1       \u001b[36m17.7610\u001b[0m  0.4170\n",
            "      2        \u001b[36m3.0380\u001b[0m  0.3784\n",
            "      3        \u001b[36m0.6344\u001b[0m  0.3512\n",
            "      4        \u001b[36m0.2701\u001b[0m  0.3476\n",
            "      5        \u001b[36m0.1933\u001b[0m  0.3397\n",
            "      6        \u001b[36m0.1601\u001b[0m  0.3407\n",
            "      7        \u001b[36m0.1355\u001b[0m  0.3445\n",
            "      8        \u001b[36m0.1150\u001b[0m  0.3412\n",
            "      9        0.1170  0.3466\n",
            "     10        \u001b[36m0.0815\u001b[0m  0.3413\n",
            "     11        0.0832  0.3467\n",
            "     12        \u001b[36m0.0730\u001b[0m  0.3461\n",
            "     13        \u001b[36m0.0676\u001b[0m  0.3496\n",
            "     14        \u001b[36m0.0664\u001b[0m  0.3417\n",
            "     15        0.0683  0.3449\n",
            "     16        \u001b[36m0.0539\u001b[0m  0.3489\n",
            "     17        0.0607  0.3430\n",
            "     18        \u001b[36m0.0383\u001b[0m  0.3408\n",
            "     19        \u001b[36m0.0365\u001b[0m  0.3467\n",
            "     20        0.0394  0.3424\n",
            "     21        0.0462  0.3432\n",
            "     22        0.0477  0.3456\n",
            "     23        \u001b[36m0.0314\u001b[0m  0.3463\n",
            "     24        0.0351  0.3405\n",
            "     25        0.0384  0.3487\n",
            "     26        \u001b[36m0.0254\u001b[0m  0.3441\n",
            "     27        0.0279  0.3347\n",
            "     28        0.0334  0.3438\n",
            "     29        0.0259  0.3419\n",
            "     30        0.0291  0.3430\n"
          ]
        },
        {
          "output_type": "execute_result",
          "data": {
            "text/plain": [
              "Pipeline(steps=[('model',\n",
              "                 <class 'skorch.classifier.NeuralNetBinaryClassifier'>[initialized](\n",
              "  module_=Model_2_network(\n",
              "    (dgcnn_1): DGCNN_network()\n",
              "    (dropout): Dropout(p=0.6, inplace=False)\n",
              "    (dgcnn_2): DGCNN_network()\n",
              "    (fc): Linear(in_features=27016, out_features=1, bias=True)\n",
              "  ),\n",
              "))])"
            ]
          },
          "metadata": {},
          "execution_count": 46
        }
      ],
      "source": [
        "torch.manual_seed(SEED)\n",
        "\n",
        "input_dim_1 = 307\n",
        "input_dim_2 = 100\n",
        "weight_dim_2 = 71\n",
        "weight_dim_4 = 17\n",
        "dropout_rate = 0.6\n",
        "batch_size = 32\n",
        "max_epochs = 30\n",
        "\n",
        "model_2 = NeuralNetBinaryClassifier(\n",
        "    Model_2_network,\n",
        "    module__input_dim_1 = input_dim_1,\n",
        "    module__input_dim_2 = input_dim_2,    \n",
        "    module__weight_dim_2 = weight_dim_2,\n",
        "    module__weight_dim_4 = weight_dim_4,\n",
        "    module__dropout_rate = dropout_rate,\n",
        "    batch_size = batch_size,\n",
        "    max_epochs = max_epochs,\n",
        "    train_split = None,\n",
        "    optimizer = torch.optim.Adam,\n",
        "    iterator_train__shuffle = True,\n",
        "    device = 'cuda'\n",
        ")\n",
        "\n",
        "pipe = Pipeline([\n",
        "    ('model', model_2)\n",
        "])\n",
        "\n",
        "pipe.fit(X_train, y_train.astype(np.float))"
      ]
    },
    {
      "cell_type": "code",
      "execution_count": null,
      "metadata": {
        "id": "C8GcjKxm3hy1",
        "outputId": "e8ca498e-1c54-4e41-ab2b-659a325f6ce3",
        "colab": {
          "base_uri": "https://localhost:8080/"
        }
      },
      "outputs": [
        {
          "output_type": "stream",
          "name": "stdout",
          "text": [
            "Confusion matrix\n",
            "[TN FP]\n",
            "[FN TP]\n",
            "[[  0 341]\n",
            " [  0 307]]\n",
            "Accuracy: 0.4738\n",
            "Precision: 0.4738\n",
            "Recall: 1.0000\n",
            "F1-Score: 0.6429\n",
            "ROC AUC: 0.5000\n",
            "Confusion matrix\n",
            "[TN FP]\n",
            "[FN TP]\n",
            "[[312  29]\n",
            " [ 21 286]]\n",
            "Accuracy: 0.9228\n",
            "Precision: 0.9079\n",
            "Recall: 0.9316\n",
            "F1-Score: 0.9196\n",
            "ROC AUC: 0.9687\n"
          ]
        }
      ],
      "source": [
        "H_list_model_2.clear()\n",
        "\n",
        "X_test_predictions_3 = pipe.predict_proba(X_test)\n",
        "model_evaluate(y_test, np.ones(len(y_test)))\n",
        "X_test_predictions_33 = pipe.predict_proba(X_test)[:, 1]\n",
        "model_evaluate(y_test, X_test_predictions_33)"
      ]
    },
    {
      "cell_type": "code",
      "execution_count": null,
      "metadata": {
        "id": "B4_fesMl3hy1",
        "outputId": "48757c8c-d7e4-47f5-8bb4-7be412743d26",
        "colab": {
          "base_uri": "https://localhost:8080/",
          "height": 265
        }
      },
      "outputs": [
        {
          "output_type": "display_data",
          "data": {
            "text/plain": [
              "<Figure size 432x288 with 1 Axes>"
            ],
            "image/png": "[encoded data removed]"
          },
          "metadata": {
            "needs_background": "light"
          }
        }
      ],
      "source": [
        "fpr_3, tpr_3, thresholds_3 = roc_curve(y_test, X_test_predictions_33)\n",
        "pyplot.plot([0, 1], [0, 1], linestyle = '--')\n",
        "pyplot.plot(fpr_3, tpr_3)\n",
        "pyplot.show()"
      ]
    },
    {
      "cell_type": "code",
      "execution_count": null,
      "metadata": {
        "id": "2sGNkJ7p3hy1",
        "outputId": "fb88f595-5cc1-496a-bfd5-cbeb83d5dda5",
        "colab": {
          "base_uri": "https://localhost:8080/",
          "height": 265
        }
      },
      "outputs": [
        {
          "output_type": "display_data",
          "data": {
            "text/plain": [
              "<Figure size 432x288 with 1 Axes>"
            ],
            "image/png": "[encoded data removed]"
          },
          "metadata": {
            "needs_background": "light"
          }
        }
      ],
      "source": [
        "result = torch.zeros(1, 27016)\n",
        "\n",
        "for i in H_list_model_2:\n",
        "    result = torch.cat([result, i.cpu()], 0)\n",
        "\n",
        "X_result = result.numpy()[1:]\n",
        "\n",
        "\n",
        "X = X_result / np.max(X_result)\n",
        "pca = decomposition.PCA(n_components = 2)\n",
        "X = pca.fit_transform(X)\n",
        "#points = np.arange(X.shape[0])\n",
        "\n",
        "plt.scatter(X[points, 0], X[points, 1], color = ['red' if l == 1 else 'green' for l in y_test[points]])\n",
        "plt.savefig('test_4.pdf')\n",
        "plt.show()"
      ]
    },
    {
      "cell_type": "code",
      "execution_count": null,
      "metadata": {
        "id": "uK1SfL1K3hy1",
        "outputId": "3044a80f-6021-4651-d5d1-21d6323feb68",
        "colab": {
          "base_uri": "https://localhost:8080/",
          "height": 279
        }
      },
      "outputs": [
        {
          "output_type": "display_data",
          "data": {
            "text/plain": [
              "<Figure size 432x288 with 1 Axes>"
            ],
            "image/png": "[encoded data removed]"
          },
          "metadata": {
            "needs_background": "light"
          }
        }
      ],
      "source": [
        "pyplot.plot([0, 1], [0, 1], linestyle = '--')\n",
        "auc_1 = roc_auc_score(y_test, X_test_predictions_11)\n",
        "pyplot.plot(fpr_1, tpr_1, label = f'LSTM, AUC = {auc_1:.4f}')\n",
        "auc_2 = roc_auc_score(y_test, X_test_predictions_22)\n",
        "pyplot.plot(fpr_2, tpr_2, label = f'Model-1, AUC = {auc_2:.4f}')\n",
        "auc_3 = roc_auc_score(y_test, X_test_predictions_33)\n",
        "pyplot.plot(fpr_3, tpr_3, label = f'Model-2, AUC = {auc_3:.4f}')\n",
        "plt.legend(loc = 4)\n",
        "plt.ylabel('True Positive Rate')\n",
        "plt.xlabel('False Positive Rate')\n",
        "plt.savefig('roc_b.pdf')\n",
        "pyplot.show()"
      ]
    }
  ],
  "metadata": {
    "kernelspec": {
      "display_name": "Python 3",
      "language": "python",
      "name": "python3"
    },
    "language_info": {
      "codemirror_mode": {
        "name": "ipython",
        "version": 3
      },
      "file_extension": ".py",
      "mimetype": "text/x-python",
      "name": "python",
      "nbconvert_exporter": "python",
      "pygments_lexer": "ipython3",
      "version": "3.7.4"
    },
    "colab": {
      "name": "Models_Comparison_Balanced_Dataset.ipynb",
      "provenance": [],
      "include_colab_link": true
    },
    "accelerator": "GPU"
  },
  "nbformat": 4,
  "nbformat_minor": 0
}